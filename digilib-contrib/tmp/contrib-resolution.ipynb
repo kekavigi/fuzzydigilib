{
 "cells": [
  {
   "cell_type": "code",
   "execution_count": 1,
   "metadata": {},
   "outputs": [
    {
     "name": "stderr",
     "output_type": "stream",
     "text": [
      "/home/kekavigi/.local/lib/python3.8/site-packages/tqdm/std.py:668: FutureWarning: The Panel class is removed from pandas. Accessing it from the top-level namespace will also be removed in the next version\n",
      "  from pandas import Panel\n"
     ]
    }
   ],
   "source": [
    "# module yang kita butuhkan:\n",
    "\n",
    "# Untuk mengakses halaman di internet\n",
    "from urllib.request import urlopen\n",
    "# Sebagai cache jika terjadi error dalam proses download\n",
    "import pickle\n",
    "#\n",
    "import pandas as pd\n",
    "#\n",
    "from fuzzywuzzy import fuzz\n",
    "# opsional: untuk melihat progress proses\n",
    "from tqdm import tqdm\n",
    "\n",
    "tqdm.pandas()"
   ]
  },
  {
   "cell_type": "raw",
   "metadata": {},
   "source": [
    "URL   = 'https://www.itb.ac.id/staff/listby/{}'"
   ]
  },
  {
   "cell_type": "raw",
   "metadata": {},
   "source": [
    "resol = pd.DataFrame()\n",
    "\n",
    "for char in tqdm('QWERTYUIOPASDFGHJKLZXCVBNM'):\n",
    "    with urlopen(URL.format(char)) as f:\n",
    "        # membaca data ke format UTF-8\n",
    "        raw = f.read().decode('utf8', 'ignore')\n",
    "        table = pd.read_html(raw)\n",
    "        resol = resol.append(table)"
   ]
  },
  {
   "cell_type": "raw",
   "metadata": {},
   "source": [
    "resol.to_csv('contrib_resolution.tsv', sep='\\t', index=False)"
   ]
  },
  {
   "cell_type": "code",
   "execution_count": 2,
   "metadata": {},
   "outputs": [],
   "source": [
    "resol = pd.read_csv('contrib_resolution.tsv', sep='\\t')['Nama']"
   ]
  },
  {
   "cell_type": "code",
   "execution_count": 3,
   "metadata": {},
   "outputs": [],
   "source": [
    "katalog = pd.read_csv('katalog_cleaned.tsv', sep='\\t')['contributor'].fillna('')"
   ]
  },
  {
   "cell_type": "code",
   "execution_count": 4,
   "metadata": {},
   "outputs": [
    {
     "data": {
      "text/plain": [
       "16209"
      ]
     },
     "execution_count": 4,
     "metadata": {},
     "output_type": "execute_result"
    }
   ],
   "source": [
    "name_list = []\n",
    "\n",
    "for entry in set(katalog):\n",
    "    if not entry: continue\n",
    "    entry = [name.strip() for name in entry.split(';')]\n",
    "    name_list.extend(entry)\n",
    "    \n",
    "name_list = pd.Series(list(set(name_list)))\n",
    "len(name_list)"
   ]
  },
  {
   "cell_type": "code",
   "execution_count": 51,
   "metadata": {},
   "outputs": [],
   "source": [
    "def likely(unknown):\n",
    "    #titlecasing\n",
    "    unknown = unknown.title()\n",
    "    # find distance with valid lecturer name\n",
    "    u = resol.apply(lambda val: fuzz.ratio(val, unknown))\n",
    "    maxu = max(u)\n",
    "    print(maxu)\n",
    "    # should we accept the result?\n",
    "    if maxu<90: return unknown\n",
    "    return resol[u==max(u)].to_list()[0]"
   ]
  },
  {
   "cell_type": "code",
   "execution_count": 6,
   "metadata": {},
   "outputs": [],
   "source": [
    "#kamus = pd.DataFrame({'Nama':name_list})"
   ]
  },
  {
   "cell_type": "code",
   "execution_count": 7,
   "metadata": {},
   "outputs": [],
   "source": [
    "#kamus['Alias'] = kamus['Nama'].progress_apply(likely)"
   ]
  },
  {
   "cell_type": "code",
   "execution_count": 8,
   "metadata": {},
   "outputs": [],
   "source": [
    "#kamus[kamus.Nama.str.title()!=kamus.Alias]"
   ]
  },
  {
   "cell_type": "code",
   "execution_count": 9,
   "metadata": {},
   "outputs": [],
   "source": [
    "#kamus.to_csv('contrib-name-resolution.tsv', sep='\\t', index=False)"
   ]
  },
  {
   "cell_type": "code",
   "execution_count": 43,
   "metadata": {},
   "outputs": [],
   "source": [
    "kamus = pd.read_csv('contrib-name-resolution.tsv', sep='\\t')\n",
    "kamus = {e[1]:e[2] for e in kamus.to_records()}"
   ]
  },
  {
   "cell_type": "code",
   "execution_count": 49,
   "metadata": {},
   "outputs": [
    {
     "data": {
      "text/plain": [
       "'S. Farm;Dina Dellyana'"
      ]
     },
     "execution_count": 49,
     "metadata": {},
     "output_type": "execute_result"
    }
   ],
   "source": [
    "tmp = katalog.sample().to_list()[0]\n",
    "ent = [kamus[name.strip()] for name in tmp.split(';')]\n",
    "';'.join(ent)"
   ]
  },
  {
   "cell_type": "code",
   "execution_count": 52,
   "metadata": {},
   "outputs": [
    {
     "name": "stdout",
     "output_type": "stream",
     "text": [
      "53\n"
     ]
    },
    {
     "data": {
      "text/plain": [
       "'S. Farm'"
      ]
     },
     "execution_count": 52,
     "metadata": {},
     "output_type": "execute_result"
    }
   ],
   "source": [
    "likely('S. Farm')"
   ]
  }
 ],
 "metadata": {
  "kernelspec": {
   "display_name": "Python 3 (ipykernel)",
   "language": "python",
   "name": "python3"
  },
  "language_info": {
   "codemirror_mode": {
    "name": "ipython",
    "version": 3
   },
   "file_extension": ".py",
   "mimetype": "text/x-python",
   "name": "python",
   "nbconvert_exporter": "python",
   "pygments_lexer": "ipython3",
   "version": "3.8.10"
  },
  "toc": {
   "base_numbering": 1,
   "nav_menu": {},
   "number_sections": true,
   "sideBar": true,
   "skip_h1_title": true,
   "title_cell": "Daftar Isi",
   "title_sidebar": "Daftar Isi",
   "toc_cell": false,
   "toc_position": {
    "height": "calc(100% - 180px)",
    "left": "10px",
    "top": "150px",
    "width": "165px"
   },
   "toc_section_display": true,
   "toc_window_display": true
  }
 },
 "nbformat": 4,
 "nbformat_minor": 4
}
