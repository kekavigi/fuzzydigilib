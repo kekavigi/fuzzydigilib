{
 "cells": [
  {
   "cell_type": "code",
   "execution_count": 1,
   "metadata": {},
   "outputs": [],
   "source": [
    "import re\n",
    "import pandas as pd\n",
    "from pprint import pprint"
   ]
  },
  {
   "cell_type": "markdown",
   "metadata": {},
   "source": [
    "# Perapian lebih lanjut"
   ]
  },
  {
   "cell_type": "code",
   "execution_count": 2,
   "metadata": {},
   "outputs": [],
   "source": [
    "katalog = pd.read_csv('katalog_cleaned.tsv', sep='\\t').fillna('')"
   ]
  },
  {
   "cell_type": "code",
   "execution_count": 3,
   "metadata": {},
   "outputs": [
    {
     "data": {
      "text/plain": [
       "53365"
      ]
     },
     "execution_count": 3,
     "metadata": {},
     "output_type": "execute_result"
    }
   ],
   "source": [
    "kat_length = katalog.count()['title']\n",
    "kat_length"
   ]
  },
  {
   "cell_type": "markdown",
   "metadata": {},
   "source": [
    "## Kolom `contributor`\n",
    "\n",
    "Alasan:\n",
    "* Penulisan gelar yang tidak konsisten mengganggu dalam menganalisis/membuat model\n",
    "* Begitu pula dengan teks non nama, seperti \"Pembimbing Tugas Akhir\", atau \"Advisor :\"\n",
    "\n",
    "Tindakan:\n",
    "* hapus penulisan gelar dan teks non-nama, sebisanya.\n",
    "\n",
    "Cara:\n",
    "1. rapikan dan hapus kerusakan-kerusakan umum\n",
    "2. hapus penulisan gelar\n",
    "3. perbaiki kesalahan format nama, dan kerusakan signifikan yang terlewat\n"
   ]
  },
  {
   "cell_type": "markdown",
   "metadata": {},
   "source": [
    "### Kerusakan umum"
   ]
  },
  {
   "cell_type": "code",
   "execution_count": 4,
   "metadata": {},
   "outputs": [],
   "source": [
    "na_list = {'-':'', 'null':'', 'tidak ada':'', '#CONTRIBUTOR#':''}\n",
    "katalog['contributor'].replace(na_list, inplace=True)"
   ]
  },
  {
   "cell_type": "code",
   "execution_count": 5,
   "metadata": {},
   "outputs": [],
   "source": [
    "def clean1(val):\n",
    "    # karakter tilda (~) sebagai pemisah antar nama\n",
    "    \n",
    "    # ===================================\n",
    "    # tidak ada nama pada teks yang mengandung mahmudin@\n",
    "    if 'mahmudin@' in val: return ''\n",
    "    # hapus alamat email\n",
    "    val = re.sub('\\w.*@.*\\.(id|com)', '', val)\n",
    "    # hapus karakter-karakter berikut\n",
    "    val = re.sub('&#\\d+\\;', '', val)\n",
    "    val = re.sub('(Ã(‚|ƒ)Â|ƒÃ‚)','', val)\n",
    "    val = re.sub('(<br|br>)', '', val)\n",
    "    \n",
    "    # ===================================\n",
    "    # nama orang yang menge-scan dokumen\n",
    "    val = re.sub('scan(ner){,1}[ :]*.*', ' ', val, flags=re.I)\n",
    "    val = re.sub('(Ena Sukmana|editor| oleh |unggah pertama pada)', ' ', val, flags=re.I)\n",
    "    # teks non-nama seperti \"Dosen Pembimbung I:\", \"Advisor 1 :\", dan sejenisnya\n",
    "    # anggap teks ini sebagai pemisah antar nama\n",
    "    val = re.sub('(dosen){,1}( ){,3}(pe.{4,8}ng|advisor|akademik)( )*(utama|tesis|pertama|kedua|proyek akhir|tugas akhir|I{,3}|\\d)( )*(:){,1}', ' ~ ', val, flags=re.I)\n",
    "    val = re.sub('(|ko-|co-)(supervisor|promotor|penulis|pembina|author(s){,1})[ I\\d]*?:', ' ~ ', val, flags=re.I)\n",
    "    val = re.sub('Koordinator (Kelompok|Tugas Akhir|TA Desain Produk)', ' ~ ', val, flags=re.I)\n",
    "    val = re.sub('Ketua( Program Studi){,1}',' ~ ', val, flags=re.I)\n",
    "\n",
    "    # ===================================\n",
    "    # hilangkan gelar yang sering dijumpai + tidak konsisten\n",
    "    # anggap teks ini sebagai pemisah antar nama\n",
    "    val = re.sub('Dr(a|s){,1}.*?(nat|pol|tech(n){,1})( |\\.)', ' ~ ', val, flags=re.I)\n",
    "    val = re.sub('Dr(a|s){,1}.{,3}(ing|eng|ir)( |\\.)', ' ~ ', val, flags=re.I)\n",
    "    val = re.sub('Dr(a|s){,1}\\.', ' ~ ', val, flags=re.I)\n",
    "    val = re.sub('Ph( |\\.|\\. )D( |\\.)', ' ~ ', val, flags=re.I)\n",
    "    val = re.sub('PhD( |\\.)', ' ~ ', val, flags=re.I)\n",
    "    val = re.sub('((P|p)rof|Ir)\\.', ' ~ ', val)\n",
    "    val = re.sub('M( |\\.|\\. )B( |\\.|\\. )A( |\\.|\\. )', ' ~ ', val)\n",
    "    val = re.sub('MBA', ' ~ ', val)\n",
    "\n",
    "    # ===================================\n",
    "    # anggap teks ini sebagai pemisah antar nama\n",
    "    val = re.sub('[\\,\\(\\)\\:;•‡†§><&#]', ' ~ ', val)\n",
    "    val = re.sub('\\d+', ' ~ ', val)\n",
    "    # rapikan spasi berlebih\n",
    "    val = re.sub('\\s+', ' ', val)\n",
    "    # sederhanakan pemisah antar nama, (~ ~ ~) menjadi (~) saja\n",
    "    val = re.sub('~( ~)+', '~', val)\n",
    "\n",
    "    return val.strip()"
   ]
  },
  {
   "cell_type": "code",
   "execution_count": 6,
   "metadata": {},
   "outputs": [
    {
     "name": "stdout",
     "output_type": "stream",
     "text": [
      "42.555982385458634\n"
     ]
    }
   ],
   "source": [
    "katalog['contributor'] = katalog['contributor'].apply(clean1)\n",
    "tmp = katalog['contributor'].value_counts().to_dict()\n",
    "\n",
    "# persentase teks unik\n",
    "print(100 * len(tmp)/kat_length)"
   ]
  },
  {
   "cell_type": "markdown",
   "metadata": {},
   "source": [
    "### Menghapus gelar"
   ]
  },
  {
   "cell_type": "code",
   "execution_count": 7,
   "metadata": {},
   "outputs": [],
   "source": [
    "# daftar gelar, lupa ngambil dari mana, sebagian dari feedback-loop output kodingan\n",
    "gelar = ['Prof', 'M Des', 'M Sc', 'M Sc.', 'M Sn.', 'M-Eng', 'M. D.', 'M. Ds', 'M. E', 'M. E.', 'M. Ec', 'M. Ed', 'M. H', 'M. IP', 'M. LA', 'M. M.', 'M. Mo', 'M. S.', 'M. SA', 'M. Sc', 'M. Si', 'M. Sn', 'M. T', 'M. T.', 'M. UP', 'M. s', 'M. s.', 'M. sc', 'M. si', 'Sp.B', 'Sp.F.', 'Sp.FK', 'Sp.JP', 'Sp.KJ', 'Sp.M.', 'Sp.P', 'Sp.P.', 'Sp.PK', 'Sp.S', 'Sp.S.', 'SpFK', 'SpJP', 'SpJp', 'SpKFR', 'SpKJ', 'SpPD', 'SpPD.', 'SpPK', 'SpPK.', 'MSc..', 'MSc.Apt.', 'MSc.CE.', 'MSc.EE', 'MScE.', 'MScEE.', 'MScI', 'MSi.', 'MSn.', 'M.S.E.', 'Apt.', 'M.Eng.', 'MAUD', 'MUDD', 'ST. MT.' 'MS', 'M.Sc.', 'DEA', 'A.Ma.Pd', 'S.P', 'M.Kor.', 'M.H.', 'S.Kel.', 'B.Sc', 'M.Hum', 'M.P.H', 'M.Ked.Trop.', 'M.P.I.', 'M.E.I.', 'Dra', 'S.Si', 'M.Kes.', 'B.Eng', 'S.Sos', 'Mbus', 'M.Han.', 'M.AP.', 'M.T.', 'M.I.Kom.', 'S.Sn', 'S.Kep.', 'M.T.A', 'M.Ed', 'S.Sn.', 'S.T', 'M.Fhil.', 'S.Ars', 'B.E', 'M.A.Ked.', 'S.Pd.SD', 'MA.', 'M.Arch', 'L.L.B', 'M.Mgt', 'S.Farm', 'S.Pd.SD.', 'M.I.Pol.', 'S.IKom', 'S.S.T', 'MSEE.', 'S.P.', 'M.A.Pd.', 'M.Lib', 'M.Sc', 'S.H.I', 'S.SI.', 'M.Farm.Klin.', 'M.Hut.', 'S.Kom.', 'S.I.P.', 'M.H.Kes.', 'M.P.Kim.', 'A.P.Kom.', 'A.Md.Pd.', 'MMSI', 'M.K.K.', 'S.Kom', 'A.Md.K.G.', 'M.Li.', 'MMSI.', 'S.Gz.', 'MKKK', 'D.P.H', 'S.E', 'A.Md.Bid.', 'S.H.', 'S.Hum', 'M.A.Hum.', 'S.H', 'M.Pd', 'M.Ds.', 'M.F', 'M.P.Kim', 'M.P.H.', 'S.Pd.I.', 'B.Ag', 'M.Sos.I.', 'MComm', 'S.Hut.', 'M.Min', 'S.Ked', 'S.Fhil', 'A.Ma.Pust.', 'S.Mn', 'M.P', 'MSIE', 'Dr.H.C', 'S.Th.I.', 'M.M.', 'M.Ak.', 'M.Comp.Sc', 'S.Pt.', 'S.Pd', 'A.Md.Far.', 'D.M.D', 'M.Hum.', 'MSA', 'A.Md.Par', 'Th.M', 'SKG.', 'S.Psi.', 'M.A.R.S.', 'S.T.P.', 'M.B.A', 'S.Pd.I', 'S.Pi.', 'S.T.', 'M.Kesja', 'S.Sos.I', 'S.AP.', 'A.P', 'M.Eng', 'M.Mar', 'S.Pt', 'S.S.', 'B.Bus', 'A.Ma.', 'M.App.Sc', 'Th.D', 'M.R.E', 'S.E.', 'M.Kes', 'S.Ag.', 'M.Fil.I.', 'M.F.A', 'S.Kel', 'S.Kep', 'Dra.', 'M.Litt', 'M.Si', 'M.Psi.', 'Drs', 'M.Stat.', 'M.Nurs', 'M.Sn.', 'S.Fhil.', 'S.K.M', 'SEi', 'M.Tr.', 'S.I.Kom.', 'MSIE.', 'S.Kes', 'B.D', 'M.Kom', 'B.Com', 'M.Mus', 'B.Arch', 'MKK', 'A.Md.Kom.', 'M.Pd.I.', 'S.Psi', 'M.Si.', 'S.Pi', 'M.Ag', 'M. Kn', 'MMR', 'S.E.I.', 'M.Agri.', 'Ed.D', 'B.Litt', 'M.Farm.', 'S.In', 'D.Sc', 'A.Md.Par.', 'S.Ag', 'S.Pd.', 'A.P.Par.', 'M.Ars.', 'Ir.', 'S.Apt', 'S.Th.I', 'S.Agr.', 'S.Ked.', 'M.MPd.', 'S.K.M.', 'A.Md.Kes.', 'M.Biomed.', 'M.Epid.', 'Pharm.D', 'J.S.D', 'BIE', 'B.A', 'M.S.I.', 'S.si', 'M.Tr.Hanla.', 'M.Ked', 'Bc,Kn', 'S.IP.', 'M.P.Mat.', 'S.Kar', 'Mcom', 'M.E.Sy.', 'M.A.', 'S.S', 'A.Md.Bid', 'M.Phil', 'S. AB.', 'A.Ma.Pd.', 'M.S', 'S.I.P', 'MARS', 'A.Md.Per.', 'MSA.', 'S.Th.K', 'Dr.', 'M.Sn', 'S.Ners', 'S.Sy.', 'A.Md.Keb.', 'S.Hut', 'DBA', 'A.Md.Kes', 'M.Th', 'M.M', 'S.KG', 'A.Md.Per', 'M.T', 'Ir', 'S.H.I.', 'M.H.I.', 'BBA', 'D.Econ', 'Dr', 'S.Sos.', 'M.Div.', 'A.Md.Ak.', 'L.L.M', 'M.AB.', 'M.Eng.Sc', 'A.P.', 'S.Ds', 'B.M', 'D.L.S', 'M.S.M.', 'S.STP.', 'M.A', 'M.Kn.', 'M.Si.Han', 'Drs.', 'S.Si.', 'M.TI.', 'S.Gz', 'A.Md', 'S.TP', 'A.Md.', 'S.KH', 'M.Keb.', 'M.Kom.', 'S. Farm.', 'M.Kesos.', 'M.Econ.', 'S.Fil.I', 'A.Ma', 'M.P.', 'M.Ag.', 'D.Comm', 'A', 'M.Cs.', 'Dipl. Ing', 'M.Pd.', 'Ph.D', 'D.Eng', 'M.Econ']\n",
    "gelar = set(gelar)"
   ]
  },
  {
   "cell_type": "code",
   "execution_count": 8,
   "metadata": {},
   "outputs": [],
   "source": [
    "def clean2(val):\n",
    "    # hapus nama gelar\n",
    "    val = ' '.join([w for w in val.split() if (w not in gelar)])\n",
    "    # anggap `dan` dan `and` sebagai pemisah nama\n",
    "    # agar tidak sengaja memroses nama, ikutkan spasi\n",
    "    val = re.sub('( dan ~ | ~ dan )', '~', val, flags=re.I)\n",
    "    val = re.sub('( and ~ | ~ and |\\?and)', '~', val, flags=re.I)\n",
    "    # sederhanakan pemisah antar nama\n",
    "    val = re.sub('~( ~)+', '~', val)\n",
    "    if val and val[0]=='~': val=val[2:]\n",
    "    if val and val[-1]=='~': val=val[:-2]\n",
    "\n",
    "    return val"
   ]
  },
  {
   "cell_type": "code",
   "execution_count": 9,
   "metadata": {},
   "outputs": [
    {
     "name": "stdout",
     "output_type": "stream",
     "text": [
      "35.182235547643586\n"
     ]
    }
   ],
   "source": [
    "katalog['contributor'] = katalog['contributor'].apply(clean2)\n",
    "tmp = katalog['contributor'].value_counts().to_dict()\n",
    "\n",
    "# persentase teks unik\n",
    "print(100 * len(tmp)/kat_length)"
   ]
  },
  {
   "cell_type": "markdown",
   "metadata": {},
   "source": [
    "### Merapikan gaya penulisan"
   ]
  },
  {
   "cell_type": "code",
   "execution_count": 10,
   "metadata": {},
   "outputs": [],
   "source": [
    "def clean3(val):\n",
    "    # ekstrak nama yang didapat hasil cleaning sebelumnya\n",
    "    tmp = [w.strip() for w in val.split('~')]\n",
    "    tmp1 = []\n",
    "    for w in tmp:\n",
    "        # hapus tanda titik jika muncul sebagai karakter pertama\n",
    "        if w and w[0]=='.': w=w[1:]\n",
    "        # jika ada huruf kapital diikuti tanda titik, kasih spasi\n",
    "        # konstrain dibuat untuk menghindari beberapa gelar\n",
    "        w = re.sub('([A-Z]\\.)', '\\\\1 ', w)\n",
    "        # jika ada nama yang diakhiri tanda titik, hilangkan tanda\n",
    "        # titik. dilakukan dengan melihat apakah tanda titik\n",
    "        # diawali dengan tiga karakter huruf kecil, contoh\n",
    "        # \"Brahmono.\" => \"Brahmono\"\n",
    "        w = re.sub('([a-z]{3})\\.', '\\\\1', w)\n",
    "        # rapikan spasi ganda\n",
    "        w = re.sub('( )+', ' ', w)\n",
    "        w = w.strip()\n",
    "        # hanya ikutkan jika di akhir proses jumlah karakter\n",
    "        # non titik tidak kurang dari 3\n",
    "        if len(w.replace('.',''))>=3: tmp1.append(w)\n",
    "\n",
    "    # gabungkan semua nama kembali\n",
    "    val = ' ~ '.join(tmp1)\n",
    "    \n",
    "    return val"
   ]
  },
  {
   "cell_type": "code",
   "execution_count": 11,
   "metadata": {},
   "outputs": [
    {
     "name": "stdout",
     "output_type": "stream",
     "text": [
      "31.338892532558795\n"
     ]
    }
   ],
   "source": [
    "katalog['contributor'] = katalog['contributor'].apply(clean3)\n",
    "tmp = katalog['contributor'].value_counts().to_dict()\n",
    "\n",
    "# persentase teks unik\n",
    "print(100 * len(tmp)/kat_length)"
   ]
  },
  {
   "cell_type": "code",
   "execution_count": 12,
   "metadata": {},
   "outputs": [
    {
     "data": {
      "text/plain": [
       "19371                                    Eka Djunarsjah\n",
       "3806                                                   \n",
       "31288         Prayatni Soewondo ~ Ahmad Soleh Setiyawan\n",
       "37232                                                  \n",
       "50089                                  Andhika Sahadewa\n",
       "21070                     Hernawan Mahfudz ~ Moh. Farid\n",
       "22793      Yazid Bindar ~ Made Tri Ari Penia Kresnowati\n",
       "13201    Emmy Suparka ~ Niniek Rina Herdianita ~ M. Sc.\n",
       "52164                            Sudarso Kaderi Wiryono\n",
       "47476                                apt Ilma Nugrahani\n",
       "Name: contributor, dtype: object"
      ]
     },
     "execution_count": 12,
     "metadata": {},
     "output_type": "execute_result"
    }
   ],
   "source": [
    "katalog['contributor'].sample(10)"
   ]
  },
  {
   "cell_type": "markdown",
   "metadata": {},
   "source": [
    "## Kolom `creator`\n",
    "\n",
    "Alasan:\n",
    "* Pada dasarnya sama dengan kolom `description`\n",
    "* Ada cukup banyak irisan nama yang disimpan dalam kolom `creator` dan kolom `contributor`\n",
    "\n",
    "Tindakan:\n",
    "* lakukan perapian yang sama seperti kolom `description`\n",
    "* hilangkan irisan nama antara kolom `creator` dan kolom `contributor`"
   ]
  },
  {
   "cell_type": "code",
   "execution_count": 13,
   "metadata": {},
   "outputs": [
    {
     "data": {
      "text/plain": [
       "'TRI F ; Tim Pembimbing : Dr. Ir. Toto Hardianto; Prof. Dr. Ir. Aryadi Suwon, ANDIEK'"
      ]
     },
     "execution_count": 13,
     "metadata": {},
     "output_type": "execute_result"
    }
   ],
   "source": [
    "katalog['creator'].loc[14797]"
   ]
  },
  {
   "cell_type": "code",
   "execution_count": 14,
   "metadata": {},
   "outputs": [],
   "source": [
    "# CLEANING\n",
    "clean_list = {\n",
    "    'Central Library':'', 'Anonim':'', 'undefined':''\n",
    "}\n",
    "katalog['creator'].replace(clean_list, inplace=True)"
   ]
  },
  {
   "cell_type": "code",
   "execution_count": 15,
   "metadata": {},
   "outputs": [],
   "source": [
    "def clean4(val):\n",
    "    # ubah gaya penulisan nama menjadi\n",
    "    # first name last name\n",
    "    *last, first = val.split(',')\n",
    "    val = first + ' ' + ','.join(last)\n",
    "    return val"
   ]
  },
  {
   "cell_type": "code",
   "execution_count": 16,
   "metadata": {},
   "outputs": [],
   "source": [
    "tmp = katalog['creator']\n",
    "\n",
    "# lakukan cleaning, termasuk cleaning\n",
    "# yang sama dengan kolom contributor\n",
    "tmp = tmp.apply(clean4)\n",
    "tmp = tmp.apply(clean1)\n",
    "tmp = tmp.apply(clean2)\n",
    "tmp = tmp.apply(clean3)\n",
    "\n",
    "katalog['creator'] = tmp"
   ]
  },
  {
   "cell_type": "code",
   "execution_count": 17,
   "metadata": {},
   "outputs": [],
   "source": [
    "def clean_creator(val):\n",
    "    cr = set(val[0].split(' ~ '))\n",
    "    co = set(val[1].split(' ~ '))\n",
    "    \n",
    "    if len(cr)>1: cr = cr-co\n",
    "    return ' ~ '.join(cr)\n",
    "\n",
    "def clean_contributor(val):\n",
    "    cr = set(val[0].split(' ~ '))\n",
    "    co = set(val[1].split(' ~ '))\n",
    "    \n",
    "    return ' ~ '.join(co-cr)\n",
    "\n",
    "katalog['creator'] = katalog[['creator', 'contributor']].apply(clean_creator, axis=1)\n",
    "katalog['contributor'] = katalog[['creator', 'contributor']].apply(clean_contributor, axis=1)"
   ]
  },
  {
   "cell_type": "code",
   "execution_count": 18,
   "metadata": {},
   "outputs": [
    {
     "data": {
      "text/html": [
       "<div>\n",
       "<style scoped>\n",
       "    .dataframe tbody tr th:only-of-type {\n",
       "        vertical-align: middle;\n",
       "    }\n",
       "\n",
       "    .dataframe tbody tr th {\n",
       "        vertical-align: top;\n",
       "    }\n",
       "\n",
       "    .dataframe thead th {\n",
       "        text-align: right;\n",
       "    }\n",
       "</style>\n",
       "<table border=\"1\" class=\"dataframe\">\n",
       "  <thead>\n",
       "    <tr style=\"text-align: right;\">\n",
       "      <th></th>\n",
       "      <th>creator</th>\n",
       "      <th>contributor</th>\n",
       "    </tr>\n",
       "  </thead>\n",
       "  <tbody>\n",
       "    <tr>\n",
       "      <th>25227</th>\n",
       "      <td>ALFIAN BAHAR</td>\n",
       "      <td>Djoko Santoso ~ Sri Widiyantoro</td>\n",
       "    </tr>\n",
       "    <tr>\n",
       "      <th>24901</th>\n",
       "      <td>ADI RAJA SURYA SIMAMORA -</td>\n",
       "      <td>Indra Djati Sidi</td>\n",
       "    </tr>\n",
       "    <tr>\n",
       "      <th>48318</th>\n",
       "      <td>Salsabila Tantri Ayu</td>\n",
       "      <td>Rachmawati</td>\n",
       "    </tr>\n",
       "  </tbody>\n",
       "</table>\n",
       "</div>"
      ],
      "text/plain": [
       "                         creator                      contributor\n",
       "25227               ALFIAN BAHAR  Djoko Santoso ~ Sri Widiyantoro\n",
       "24901  ADI RAJA SURYA SIMAMORA -                 Indra Djati Sidi\n",
       "48318       Salsabila Tantri Ayu                       Rachmawati"
      ]
     },
     "execution_count": 18,
     "metadata": {},
     "output_type": "execute_result"
    }
   ],
   "source": [
    "katalog[['creator', 'contributor']].sample(3)"
   ]
  },
  {
   "cell_type": "markdown",
   "metadata": {},
   "source": [
    "## Kolom `description`\n",
    "\n",
    "Alasan:\n",
    "* Menyatukan teks-yang-mensyaratkan-data-NA agar sedikit waras\n",
    "\n",
    "Tindakan:\n",
    "* Satukan datanya.\n",
    "\n",
    "Cara:\n",
    "* 300 karakter harusnya cukup untuk menulis NA.\n",
    "* Gunakan fuzzy search untuk mengelompokkan NA.\n",
    "* ganti daftar teks yang didapat dengan empty string."
   ]
  },
  {
   "cell_type": "code",
   "execution_count": 19,
   "metadata": {},
   "outputs": [],
   "source": [
    "from fuzzywuzzy import fuzz"
   ]
  },
  {
   "cell_type": "code",
   "execution_count": 20,
   "metadata": {},
   "outputs": [],
   "source": [
    "desc = katalog['description']\n",
    "\n",
    "# fokus ke teks dengan panjang kurang dari 300 karakter\n",
    "tmp = desc[desc.str.len() < 300].to_list()\n",
    "# fokus pada daftar teks yang unik\n",
    "tmp = list(set(tmp))"
   ]
  },
  {
   "cell_type": "code",
   "execution_count": 21,
   "metadata": {},
   "outputs": [
    {
     "name": "stdout",
     "output_type": "stream",
     "text": [
      "CPU times: user 21.9 s, sys: 1.31 ms, total: 21.9 s\n",
      "Wall time: 21.9 s\n"
     ]
    }
   ],
   "source": [
    "%%time\n",
    "\n",
    "group = []\n",
    "\n",
    "def grouper():\n",
    "    # menggabungkan beberapa teks yang \"sama\"\n",
    "    # ke dalam satu kelompok\n",
    "    text = tmp.pop()\n",
    "    group.append([text])\n",
    "    \n",
    "    for other_text in tmp:\n",
    "        # teks dianggap sama jika rasionya > 85\n",
    "        if fuzz.ratio(text, other_text)>85:\n",
    "            group[-1].append(other_text)\n",
    "            tmp.remove(other_text)\n",
    "\n",
    "# lakukan sampai semua teks di tmp\n",
    "# berhasil dikelompokkan\n",
    "while tmp: grouper()"
   ]
  },
  {
   "cell_type": "code",
   "execution_count": 22,
   "metadata": {},
   "outputs": [
    {
     "name": "stdout",
     "output_type": "stream",
     "text": [
      "69\n"
     ]
    }
   ],
   "source": [
    "na_list = {}\n",
    "\n",
    "for g in group:\n",
    "    # fokus pada group dengan anggota lebih dari satu\n",
    "    if len(g)==1: continue\n",
    "    \n",
    "    # semua teks-mensyaratkan NA punya panjang < 70\n",
    "    for text in g:\n",
    "        # masukkan ke daftar\n",
    "        if len(text)<70: na_list[text]=''\n",
    "    \n",
    "print(len(na_list))"
   ]
  },
  {
   "cell_type": "code",
   "execution_count": 23,
   "metadata": {},
   "outputs": [],
   "source": [
    "katalog['description'] = katalog['description'].replace('clean_list')"
   ]
  },
  {
   "cell_type": "code",
   "execution_count": null,
   "metadata": {},
   "outputs": [],
   "source": [
    "katalog.to_csv('katalog_cleaned_v2.tsv', sep='\\t', index=False)"
   ]
  }
 ],
 "metadata": {
  "kernelspec": {
   "display_name": "Python 3 (ipykernel)",
   "language": "python",
   "name": "python3"
  },
  "language_info": {
   "codemirror_mode": {
    "name": "ipython",
    "version": 3
   },
   "file_extension": ".py",
   "mimetype": "text/x-python",
   "name": "python",
   "nbconvert_exporter": "python",
   "pygments_lexer": "ipython3",
   "version": "3.8.10"
  },
  "toc": {
   "base_numbering": 1,
   "nav_menu": {},
   "number_sections": true,
   "sideBar": true,
   "skip_h1_title": true,
   "title_cell": "Daftar Isi",
   "title_sidebar": "Daftar Isi",
   "toc_cell": false,
   "toc_position": {
    "height": "calc(100% - 180px)",
    "left": "10px",
    "top": "150px",
    "width": "165px"
   },
   "toc_section_display": true,
   "toc_window_display": true
  }
 },
 "nbformat": 4,
 "nbformat_minor": 4
}
