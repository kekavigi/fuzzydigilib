{
 "cells": [
  {
   "cell_type": "markdown",
   "id": "3a41aae0-e160-47a0-b5ec-4d70c5f1b279",
   "metadata": {},
   "source": [
    "# Merapikan data Digilib"
   ]
  },
  {
   "cell_type": "code",
   "execution_count": 33,
   "id": "10b8afce",
   "metadata": {},
   "outputs": [],
   "source": [
    "import os\n",
    "import re\n",
    "import random\n",
    "import itertools as it\n",
    "from pickle import load\n",
    "\n",
    "from unicodedata import normalize as utf8_normalize"
   ]
  },
  {
   "cell_type": "code",
   "execution_count": 2,
   "id": "dc477fad",
   "metadata": {},
   "outputs": [],
   "source": [
    "total = []\n",
    "\n",
    "for root, dirs, files in os.walk('collected-picklep-digilib/collected/'):\n",
    "    for file in files:\n",
    "        fname = os.sep.join([root, file])\n",
    "        \n",
    "        try:\n",
    "            with open(fname, 'rb') as f: total.extend(load(f))\n",
    "        except EOFError: pass"
   ]
  },
  {
   "cell_type": "code",
   "execution_count": 3,
   "id": "34fa030c",
   "metadata": {},
   "outputs": [],
   "source": [
    "kontributor = [row['Kontributor / Dosen Pembimbing'] for row in total]\n",
    "del total"
   ]
  },
  {
   "cell_type": "code",
   "execution_count": 4,
   "id": "8d4723db-b8f3-44f4-bb43-074861b8a410",
   "metadata": {},
   "outputs": [],
   "source": [
    "# simpan data original\n",
    "original = kontributor.copy()"
   ]
  },
  {
   "cell_type": "code",
   "execution_count": 5,
   "id": "9c215fac-d1c6-40b4-b1e0-2aca3564f84c",
   "metadata": {},
   "outputs": [
    {
     "data": {
      "text/plain": [
       "57406"
      ]
     },
     "execution_count": 5,
     "metadata": {},
     "output_type": "execute_result"
    }
   ],
   "source": [
    "len(kontributor)"
   ]
  },
  {
   "cell_type": "markdown",
   "id": "29f637e7",
   "metadata": {},
   "source": [
    "## Remove \"Stopwords\""
   ]
  },
  {
   "cell_type": "markdown",
   "id": "4689ae05-bb1d-4d0c-9514-39bd56ed9b7a",
   "metadata": {},
   "source": [
    "Pada bagian ini, kita akan melihat dan menghilangkan beberapa kata (kumpulan karakter yang diapit oleh simbol spasi) yang sering muncul dalam data."
   ]
  },
  {
   "cell_type": "code",
   "execution_count": 6,
   "id": "30bd86ef",
   "metadata": {},
   "outputs": [],
   "source": [
    "all_word = ' '.join(kontributor)\n",
    "all_word = re.sub('(\\:|\\,|;)', ' ~ ', all_word).split()"
   ]
  },
  {
   "cell_type": "code",
   "execution_count": 7,
   "id": "c649021e",
   "metadata": {},
   "outputs": [
    {
     "data": {
      "text/plain": [
       "552265"
      ]
     },
     "execution_count": 7,
     "metadata": {},
     "output_type": "execute_result"
    }
   ],
   "source": [
    "len(all_word)"
   ]
  },
  {
   "cell_type": "markdown",
   "id": "b4a2e53b-56fd-47ef-8ffe-e2caf6753bfb",
   "metadata": {},
   "source": [
    "Coba hitung frekuensi kemunculan dari setiap kata dalam data"
   ]
  },
  {
   "cell_type": "code",
   "execution_count": 8,
   "id": "23af7cfd",
   "metadata": {},
   "outputs": [],
   "source": [
    "word_freq = {}\n",
    "\n",
    "while all_word:\n",
    "    word = all_word.pop()\n",
    "    if word not in word_freq: word_freq[word] = 0\n",
    "    word_freq[word] += 1"
   ]
  },
  {
   "cell_type": "code",
   "execution_count": 9,
   "id": "75cb4529",
   "metadata": {},
   "outputs": [
    {
     "name": "stdout",
     "output_type": "stream",
     "text": [
      "['~', 'M.', 'I', 'MS', 'Bambang', 'P', 'S.', 'Agus', 'MBA', 'MT', 'Muhammad', 'Budi', 'A.', 'DEA', 'ST', 'Hidayat', 'Achmad', 'R.', 'Tri', 'Gunawan']\n"
     ]
    }
   ],
   "source": [
    "tmp = sorted([(freq,word) for word,freq in word_freq.items()], reverse=True)[:50]\n",
    "\n",
    "# print([word for freq,word in tmp])\n",
    "\n",
    "stop_word_fp = {'-', 'Dr.', 'Pembimbing', 'Ir.', 'Ph.D.', 'S.T.', 'M.T.', 'Prof.', 'M.Sc.', \n",
    "                'M.Si.', 'S.Si.', 'M.Eng.', 'Ph.D', 'MT.', 'dan', 'Scan', 'Dr.Eng.', 'ST.',\n",
    "                '1', 'Scanner', '2', '#CONTRIBUTOR#', 'Dr.Ir.', 'Drs.', 'Dr.-Ing.', 'Eng.',\n",
    "                'M.Sn.', 'Dr.rer.nat.', 'Apt.', 'M.Sc',}\n",
    "\n",
    "print([word for freq,word in tmp if word not in stop_word_fp])"
   ]
  },
  {
   "cell_type": "markdown",
   "id": "212b06e7-ccb6-4101-a6f8-092849cba625",
   "metadata": {},
   "source": [
    "Beberapa kata yang sering muncul saya simpan di `stop_word_fp`. Namun tidak semuanya saya masukkan. Kata yang ambigu seperti `MS` dapat berarti singkatan nama, seperti `Muhammad Saiful`, juga dapat berupa singkatan gelar. Karenanya, saya hanya memasukkan kata yang kemungkinan besar, hampir pasti, bukan merupakan singkatan nama. Tentu, jika `MT.` sebenarnya singkatan nama dari seseorang... maaf."
   ]
  },
  {
   "cell_type": "code",
   "execution_count": 10,
   "id": "76274ee0",
   "metadata": {},
   "outputs": [],
   "source": [
    "# kita tidak membutuhkan ini lagi\n",
    "del word_freq"
   ]
  },
  {
   "cell_type": "markdown",
   "id": "648e36eb-6e76-4214-9dd4-3b0d5691d377",
   "metadata": {},
   "source": [
    "Dengan melihat 100 sampel acak beberapa kali, saya melihat beberapa pola yang dapat sekalian bersihkan. Contohnya adalah teks `Dosen Pembimbibing I` dan `ko-supervisor 2:`. Daftar lengkapnya dapat dilihat berikut"
   ]
  },
  {
   "cell_type": "code",
   "execution_count": 11,
   "id": "8dc1bad8",
   "metadata": {},
   "outputs": [],
   "source": [
    "# hilangkan stop word yang tadi kita kumpulkan\n",
    "remove1 = r'\\W(%s)\\W' % r'|'.join(stop_word_fp)\n",
    "# hilangkan simbol ini yang setidaknya muncul dua kali secara berurutan\n",
    "remove2 = r'[\\d\\t\\n\\(\\)\\-\\,;: ]{2,}'\n",
    "# ... muncul sekali\n",
    "remove3 = r'[&\\,]'\n",
    "# hilangkan simbol non karakter di awal dan di akhir data\n",
    "remove4 = r'^\\W+'\n",
    "remove5 = r'\\W+$'\n",
    "\n",
    "# pola yang saya lihat dan perlu dihapus\n",
    "noname1 = '(dosen)?( ){,3}(pe.{4,8}ng|advisor|akademik)( )*(utama|tesis|pertama|kedua|proyek akhir|tugas akhir|I{,3}|\\d)( )*:?'\n",
    "noname2 = '(|ko-|co-)(anggota|supervisor|promotor|penulis|pembina|author(s)?)[ I\\d]*?:?'\n",
    "noname3 = 'Koordinator (Kelompok|Tugas Akhir|TA Desain Produk)'\n",
    "noname4 = 'Ketua( Program Studi)?'\n",
    "noname5 = 'scan(ner)?[ :]*.*'\n",
    "noname6 = '(Ena Sukmana|editor| oleh |unggah pertama pada)'\n",
    "\n",
    "# hapus penggunaan gelar yang sangat umum muncul\n",
    "title1 = 'Dr(a|s)?.*?(nat|pol|tech(n)?)( |\\.)'\n",
    "title2 = 'Dr(a|s)?.{,3}(ing|eng|ir)( |\\.)'\n",
    "title3 = 'Dr(a|s)?\\.'\n",
    "title4 = 'Ph( |\\.|\\. )D( |\\.)'\n",
    "title5 = 'PhD( |\\.)'\n",
    "title6 = '(Prof|Ir)\\.'\n",
    "title7 = 'M( |\\.|\\. )B( |\\.|\\. )A( |\\.|\\. )'\n",
    "\n",
    "# hilangkan spasi ganda\n",
    "cleanup1 = '\\s+'\n",
    "# menyederhanakan apa yang telah dihapus\n",
    "cleanup2 = '~( ~)+'"
   ]
  },
  {
   "cell_type": "markdown",
   "id": "9f956811-d700-4d16-a049-9e7347dca67e",
   "metadata": {},
   "source": [
    "Lalu saya membuat fungsi besar untuk merapikan data"
   ]
  },
  {
   "cell_type": "code",
   "execution_count": 12,
   "id": "8e692cda",
   "metadata": {},
   "outputs": [],
   "source": [
    "def strip(tmp):\n",
    "    # inisiasi, seharusnya bisa lebih efektif\n",
    "    tmp = ' ' + tmp + ' '\n",
    "    # rapikan penggunaan karakter ke bentuk yang lebih sederhana\n",
    "    tmp = utf8_normalize('NFKD', tmp)\n",
    "\n",
    "    # untuk setiap pola regex yang ditemukan, ganti dengan ' ~ ' \n",
    "    for pattern in [remove1, remove2, remove3, remove4, remove5,\n",
    "            noname1, noname2, noname3, noname4, noname5, noname6,\n",
    "            title1, title2, title3, title4, title5, title6, title7]:\n",
    "        tmp = re.sub(pattern, ' ~ ', tmp, flags=re.IGNORECASE)\n",
    "    \n",
    "    # cleanup\n",
    "    tmp = re.sub(cleanup1, ' ', tmp)\n",
    "    tmp = re.sub(cleanup2, '~', tmp)\n",
    "\n",
    "    # sekarang, ' ~ ' memisahkan dua nama lengkap yang berbeda.\n",
    "    # kumpulkan daftar nama lengkap menjadi sebuah list\n",
    "    get = []\n",
    "    for name in tmp.split(' ~ '):\n",
    "        # tentu, selama nama lengkap bukan teks kosong, atau email@somewhere.com\n",
    "        if name and ('@' not in name):\n",
    "            get.append(name)\n",
    "    return get"
   ]
  },
  {
   "cell_type": "markdown",
   "id": "40b6ac8f-1839-4eff-af69-6f9fcb8ec7eb",
   "metadata": {},
   "source": [
    "Mari kita cek beberapa kasus"
   ]
  },
  {
   "cell_type": "code",
   "execution_count": 13,
   "id": "ba2c6cfb-7bd8-49b9-963e-70cd591aba1e",
   "metadata": {},
   "outputs": [
    {
     "name": "stdout",
     "output_type": "stream",
     "text": [
      "['Dumaria R. Tampubolon']\n",
      "['Irawati']\n",
      "['H.S. Sabet', 'A.N. El-Sayed', 'M.A. Zayed']\n",
      "['Nugraha', 'Damar Rastri Adhika']\n",
      "['Budi Hartono Setiamarga', 'Umen Rumendi', 'Weld. Mast']\n"
     ]
    }
   ],
   "source": [
    "tests = ['Dumaria R. Tampubolon',\n",
    "         'Pembimbing: Dr. Irawati',\n",
    "         'H.S. Sabet, A.N. El-Sayed, M.A. Zayed',\n",
    "         'Nugraha, Dr.Eng.;Dr. Damar Rastri Adhika, S.T., M.Sc.;',\n",
    "         'Pembimbing: Dr. Ir. Budi Hartono Setiamarga dan Umen Rumendi, S.T., Weld. Mast.']\n",
    "\n",
    "for test in tests:\n",
    "    print(strip(test))"
   ]
  },
  {
   "cell_type": "markdown",
   "id": "237d0c76-317d-40b0-87fa-7703a4946159",
   "metadata": {},
   "source": [
    "Terlihat oke. Sayangnya gelar `Weld. Mast` tercatat sebagai nama lengkap. Perbaikan ini bisa dilakukan pada tahap selanjutnya. Saat ini, mari kita bersihkan data terlebih dahulu"
   ]
  },
  {
   "cell_type": "code",
   "execution_count": 14,
   "id": "9e819724",
   "metadata": {},
   "outputs": [],
   "source": [
    "for i in range(len(kontributor)):\n",
    "    kontributor[i] = strip(kontributor[i])"
   ]
  },
  {
   "cell_type": "markdown",
   "id": "66eb5694",
   "metadata": {},
   "source": [
    "## Menghapus Gelar dari Nama Lengkap"
   ]
  },
  {
   "cell_type": "markdown",
   "id": "0902143b-19ee-4343-bb54-c5c520576045",
   "metadata": {},
   "source": [
    "Untuk daftar gelar akademik, saya mengambil data dari [Halaman Wikipedia berikut](https://id.wikipedia.org/wiki/Gelar_akademik). Lebih lanjut, dalam membersihkan gelar, kita akan berurusan dengan nama seperti `M.A. Sayed`, dan memikirkan untuk membuat daftar gelar yang perlu diletakkan sebelum, dan daftar yang perlu diletakkan sesudah nama lengkap. Untuk alasan kemudahan, saya hanya memisahkan daftar gelar secara sederhana"
   ]
  },
  {
   "cell_type": "code",
   "execution_count": 15,
   "id": "3fc02da5-899a-4f9e-a270-b9bd94e6abcb",
   "metadata": {},
   "outputs": [],
   "source": [
    "# gelar akademik yang terletak di awal\n",
    "acad_title_start = {'Dr.', 'Dr. Psi.', 'Dr. iur.', 'Dr. med.', 'Dr. phil.', 'Dr. rer. nat.',\n",
    "    'Dr. rer. oec.', 'Dr. rer. pol.', 'Dr.-Ing.', 'Dra.', 'Drs.', 'Ir.', 'Mr.', 'Prof.'}\n",
    "\n",
    "# ... yang terletak di akhir\n",
    "acad_title_end = {'A.Ma.', 'A.Md.', 'A.P.', 'B.A.', 'B.Ba.', 'B.Biomed.', 'B.Comp.Sc.', 'B.Eng.', 'B.Sc.',\n",
    "    'D.Th./Th.D.', 'Ed.D.', 'H./Dr.', 'Hk.',\n",
    "    'L.L.B.', 'L.L.M.', 'M.A.', 'M.A.B.', 'M.A.P.', 'M.A.R.S.', 'M.Arl.', 'M.B.A.', 'M.Com.', 'M.Cs.',\n",
    "    'M.E.', 'M.Eng.', 'M.Eng.Sc.', 'M.I.Kom.', 'M.ISS', 'M.Int.Rel.', 'M.Kom.', 'M.M.A.S.', 'M.M.D.S.',\n",
    "    'M.Mar.', 'M.Mar.E.', 'M.Mgt.', 'M.Pharm.', 'M.Phil.', 'M.Psi., Psikolog/M.Psi., Psi.', 'M.Psi.T.',\n",
    "    'M.S./M.Sc.', 'M.S.S.', 'M.Sc.', 'M.Si.', 'M.T.', 'M.Th.', 'MBBS', 'Ph.D.', 'S.A P.', 'S.A.B.',\n",
    "    'S.A.P.', 'S.A.R.S.', 'S.Adm.', 'S.Ag.', 'S.Agr.', 'S.Ant.', 'S.Arl.', 'S.Ars.', 'S.Ds.', 'S.E.',\n",
    "    'S.E.I.', 'S.Farm.', 'S.Fil.', 'S.Gz./S.Gizi', 'S.H.', 'S.H.I.', 'S.Han.', 'S.Hub.Int.', 'S.Hum.',\n",
    "    'S.Hut.', 'S.I.K.', 'S.I.Kom.', 'S.I.P.', 'S.I.P./S.I.Pol.', 'S.I.P./S.Ptk.', 'S.In.', 'S.K.G.',\n",
    "    'S.K.H.', 'S.K.M.', 'S.K.P.M.', 'S.Keb.', 'S.Ked.', 'S.Kel.', 'S.Kep.', 'S.Kom.', 'S.M./S.Mn.',\n",
    "    'S.M.B.', 'S.Mat.', 'S.Or.', 'S.P.', 'S.Par.', 'S.Pd.', 'S.Pd.Bio', 'S.Pd.Fis', 'S.Pd.I.', 'S.Pd.Jas',\n",
    "    'S.Pd.Kor', 'S.Pd.SD.', 'S.Pi.', 'S.Psi.', 'S.Pt.', 'S.S.', 'S.S.T.', 'S.S.T.Han./S.T.Han./S.Tr.Han.',\n",
    "    'S.SI.', 'S.STP.', 'S.Si.', 'S.Si. (Teol.)', 'S.Sn.', 'S.Sos.', 'S.Sy.', 'S.T.', 'S.T.P.', 'S.TI.',\n",
    "    'S.Th.', 'S.Th.I.', 'S.Tr.K.', 'S.Tr.Keb.', 'S.Tr.Sos.', 'Th.M.'}"
   ]
  },
  {
   "cell_type": "markdown",
   "id": "684115a3-b0b5-43ce-a48b-97de1f9de5f5",
   "metadata": {},
   "source": [
    "Tentu, pada kenyataannya kita melihat banyak sekali variasi dari penulisan nama gelar tersebut. Contohnya, gelar `S.E.` dapat mengalami saltik menjadi `SE.`, `S.E`, dan bahkan `SE`. Saya mengambil langkah konservatif dengan hanya menambah kemungkinan saltik \"lupa menambahkan titik di akhir gelar\" ke dalam daftar gelar."
   ]
  },
  {
   "cell_type": "code",
   "execution_count": 16,
   "id": "59c55e46-c3af-49a0-ab10-cff3696bf80e",
   "metadata": {},
   "outputs": [],
   "source": [
    "acad_title_start.update([x[:-1] for x in acad_title_start if x[-1]=='.'])\n",
    "acad_title_end.update(  [x[:-1] for x in acad_title_end   if x[-1]=='.'])"
   ]
  },
  {
   "cell_type": "code",
   "execution_count": 17,
   "id": "e007cfb6-2fee-404c-88c3-4db7d040ac7e",
   "metadata": {},
   "outputs": [],
   "source": [
    "def strip(text):\n",
    "    text = text.split(' ')\n",
    "    \n",
    "    # hilangkan gelar di akhir nama\n",
    "    for i in reversed(range(len(text))):\n",
    "        if text[i] not in acad_title_end: break\n",
    "    if text[i] in acad_title_end: i-=1\n",
    "    \n",
    "    # hilangkan gelar di awal nama\n",
    "    for j in range(max(len(text), i)):\n",
    "        if text[j] not in acad_title_start: break\n",
    "    if text[j] in acad_title_start: j+=1\n",
    "        \n",
    "\n",
    "    # gabungkan\n",
    "    text = ' '.join(text[j:i+1])\n",
    "    \n",
    "    return text"
   ]
  },
  {
   "cell_type": "code",
   "execution_count": 18,
   "id": "b841d645-653c-4fba-8c3e-b9cbac6bc452",
   "metadata": {},
   "outputs": [
    {
     "name": "stdout",
     "output_type": "stream",
     "text": [
      "M.A Zayed\n",
      "Emenda Sembiring\n",
      "\n"
     ]
    }
   ],
   "source": [
    "tests = ['Dr M.A Zayed', 'Ir. Emenda Sembiring S.T. M.T. M.Eng.Sc. Ph.D.', 'S.T']\n",
    "\n",
    "for test in tests:\n",
    "    print(strip(test))"
   ]
  },
  {
   "cell_type": "markdown",
   "id": "1203194f-fcab-42c2-bb35-f7c43fd923ca",
   "metadata": {},
   "source": [
    "Sekali lagi, rapikan data yang kita miliki"
   ]
  },
  {
   "cell_type": "code",
   "execution_count": 19,
   "id": "aa62d53f-4ab0-4762-a486-c873d8a6029c",
   "metadata": {},
   "outputs": [],
   "source": [
    "for i in range(len(kontributor)):\n",
    "    revised_list = []\n",
    "    for name in kontributor[i]:\n",
    "        revised = strip(name)\n",
    "        # jika revised bukan string kosong\n",
    "        if revised:\n",
    "            revised_list.append(revised)\n",
    "    kontributor[i] = revised_list"
   ]
  },
  {
   "cell_type": "markdown",
   "id": "8ff792df-79d5-45a2-9994-6429bb46e056",
   "metadata": {},
   "source": [
    "### Perkembangan sejauh ini"
   ]
  },
  {
   "cell_type": "code",
   "execution_count": 20,
   "id": "5f071088-10d1-4685-b81e-1c3690924189",
   "metadata": {},
   "outputs": [],
   "source": [
    "all_word = []\n",
    "\n",
    "for names in kontributor:\n",
    "    all_word.append(' '.join(names))\n",
    "all_word = ' '.join(all_word).split()"
   ]
  },
  {
   "cell_type": "code",
   "execution_count": 21,
   "id": "6be2ba52-f8b2-448c-a35c-fcde7d8ca062",
   "metadata": {},
   "outputs": [
    {
     "data": {
      "text/plain": [
       "213104"
      ]
     },
     "execution_count": 21,
     "metadata": {},
     "output_type": "execute_result"
    }
   ],
   "source": [
    "len(all_word)"
   ]
  },
  {
   "cell_type": "code",
   "execution_count": 22,
   "id": "75776cc2-dd43-4884-adf6-850da77a3b7c",
   "metadata": {},
   "outputs": [],
   "source": [
    "word_freq = {}\n",
    "\n",
    "while all_word:\n",
    "    word = all_word.pop()\n",
    "    if word not in word_freq: word_freq[word] = 0\n",
    "    word_freq[word] += 1\n",
    "del all_word"
   ]
  },
  {
   "cell_type": "code",
   "execution_count": 23,
   "id": "7b324353-9c7e-4d38-9750-6f54beb41387",
   "metadata": {},
   "outputs": [
    {
     "name": "stdout",
     "output_type": "stream",
     "text": [
      "['A.P.', 'B.A.', 'Dr', 'Ir', 'M.A', 'M.A.', 'M.Phil', 'M.Sc', 'M.Si', 'M.T', 'MBBS', 'Prof', 'S.Ds', 'S.H.', 'S.P', 'S.P.', 'S.Psi', 'S.S.', 'S.Sn.', 'S.Sos.']\n"
     ]
    }
   ],
   "source": [
    "tmp = sorted([(freq,word) for word,freq in word_freq.items()], reverse=True)\n",
    "\n",
    "stop_word_sp = {word for freq,word in tmp\n",
    "                if word in acad_title_start.union(acad_title_end)}\n",
    "\n",
    "print(sorted(stop_word_sp))"
   ]
  },
  {
   "cell_type": "code",
   "execution_count": 24,
   "id": "893524f4-afe1-4e13-9112-a646f74ed720",
   "metadata": {},
   "outputs": [
    {
     "name": "stdout",
     "output_type": "stream",
     "text": [
      "Pembimbing: Kudrat Soemintapoera. Prof.Ir.,Ph.D., dan Suhardi, Dr. Ing. \n",
      " ['Kudrat Soemintapoera. Prof', 'Suhardi', 'Ing']\n"
     ]
    }
   ],
   "source": [
    "stop = False\n",
    "for ori, rev in zip(original, kontributor):\n",
    "    for name in rev:\n",
    "        if 'Prof' in name.split(' '):\n",
    "            print(ori,'\\n', rev)\n",
    "            stop = True\n",
    "            break\n",
    "    if stop: break"
   ]
  },
  {
   "cell_type": "code",
   "execution_count": 25,
   "id": "280f08c2-8dd5-4897-975e-386a81155474",
   "metadata": {},
   "outputs": [],
   "source": [
    "del word_freq"
   ]
  },
  {
   "cell_type": "markdown",
   "id": "2fcdb433-04b9-4d75-bfd5-cdce9b896ea3",
   "metadata": {},
   "source": [
    "## Periksa Nama yang Sering Muncul"
   ]
  },
  {
   "cell_type": "code",
   "execution_count": 26,
   "id": "88ced398-439c-4db6-ba34-1d4f6b240ba4",
   "metadata": {},
   "outputs": [],
   "source": [
    "name_freq = {}\n",
    "\n",
    "for revlist in kontributor:\n",
    "    for name in revlist:\n",
    "        if name not in name_freq:\n",
    "            name_freq[name] = 0\n",
    "        name_freq[name] += 1"
   ]
  },
  {
   "cell_type": "code",
   "execution_count": 27,
   "id": "829f3264-054d-4c5a-846e-162a354b0b73",
   "metadata": {},
   "outputs": [
    {
     "data": {
      "text/plain": [
       "13.68493555052642"
      ]
     },
     "execution_count": 27,
     "metadata": {},
     "output_type": "execute_result"
    }
   ],
   "source": [
    "tmp = sorted([(freq,word) for word,freq in name_freq.items()], reverse=True)[:150]\n",
    "\n",
    "# Saya menganggap nama berikut sebagai left-over dari gelar\n",
    "stop_word_tp = {'MS', 'P', 'MBA', 'MT', 'DEA', 'I', 'II', 'S', 'Ing.', 'MSc', 'Dosen', 'MA', 'M.S.M', 'dan',\n",
    "                'M.Ds', 'Tim', 'MSCE', 'MM', 'MSP', 'MSME', 'M.M', 'Utama', 'MSc.', 'MSE', 'M.SE', 'M.S', 'MSA',\n",
    "                'S. Sn.', 'M. T', 'M.Pl', 'IEEE',\n",
    "                'MS.', 'MSIE', 'M', 'M.P', 'M.A.Sc', 'ena', 'Eng.', 'M.Sn', 'MES', 'M.M.', 'DBA', 'upload',\n",
    "                'M.S.', 'SE', 'DIC', 'M. Sc', 'MAUD', 'Tugas Akhir', 'SE.DEA', 'M. Sn', 'Thesis'}\n",
    "stop_word_tp.update([word for word in name_freq.keys() if len(word)<=2])\n",
    "\n",
    "#print([word for _,word in tmp if word not in stop_word_tp])\n",
    "\n",
    "percentage = sum(freq for freq,word in tmp if word in stop_word_tp) / sum(name_freq.values())\n",
    "100 * percentage"
   ]
  },
  {
   "cell_type": "code",
   "execution_count": 28,
   "id": "1351f9bf-f4d1-4de3-9a66-a5efdcc68c46",
   "metadata": {},
   "outputs": [],
   "source": [
    "for i in range(len(kontributor)):\n",
    "    kontributor[i] = [name for name in kontributor[i] if name not in stop_word_tp]"
   ]
  },
  {
   "cell_type": "markdown",
   "id": "4ba16399",
   "metadata": {},
   "source": [
    "## Approximate String Matching\n",
    "https://www.machinelearningplus.com/nlp/training-custom-ner-model-in-spacy/"
   ]
  },
  {
   "cell_type": "code",
   "execution_count": 29,
   "id": "82b634ca-9e0f-4de2-ab9c-a591a2c02f65",
   "metadata": {},
   "outputs": [
    {
     "data": {
      "text/plain": [
       "[[\"Zaki Su'ud\"],\n",
       " ['Deddy Kurniadi', 'Suprijanto'],\n",
       " ['Wenbing Guo', 'Erhu Bai', 'and Daming Yang'],\n",
       " ['Ing. Willy Adriansyah'],\n",
       " ['Suprijadi'],\n",
       " [],\n",
       " ['Ivonne Milichristi Radjawane'],\n",
       " ['Eddy A. Subroto'],\n",
       " ['M. Cahyono', 'Arie Setiadi Moerwanto'],\n",
       " ['Sasanti Tarini Darijanto'],\n",
       " ['Suprayogi', 'Rully Tri Cahyono'],\n",
       " [],\n",
       " ['Harmein Rahman', 'Bambang Sugeng S.'],\n",
       " ['Pudjo Sukarno', 'Leksono Mucharam'],\n",
       " [],\n",
       " ['Muhammad Bachri Amran'],\n",
       " ['Achmad Haldani Destiarmand'],\n",
       " ['Tutuka Ariadji'],\n",
       " ['H. Rochim Suratman'],\n",
       " ['Kinsenary Tjendrasa'],\n",
       " ['Atika Lubis'],\n",
       " ['Wahyu Srigutomo'],\n",
       " ['Wawan Dhewanto'],\n",
       " ['Ridho K. Wattimena'],\n",
       " ['Bambang Sunendar', 'Ahmad Nuruddin'],\n",
       " ['Irawati', 'Muchtadi Intan Detiena', 'Aslak Bakke Buan'],\n",
       " [],\n",
       " ['Mardjono Siswosuwarno'],\n",
       " ['ChangHee Lee', 'L. Mahadevan', 'Clifford J. Tabin'],\n",
       " [],\n",
       " ['Andojo Wurjanto'],\n",
       " ['Leksananto'],\n",
       " [],\n",
       " ['Bermawi P. Iskandar'],\n",
       " ['Ahmad Nuruddin'],\n",
       " ['Dumaria Rulina Tampubolon'],\n",
       " ['Ignatius Sonny Winardhie'],\n",
       " ['Aciek Ida Wuryandari', 'Waskita Adijarto'],\n",
       " ['Indra Noviandri'],\n",
       " ['Agus Jatnika Effendi'],\n",
       " ['Yos Sunitiyoso'],\n",
       " ['Woerjantari Kartidjo'],\n",
       " [],\n",
       " ['Joko Siswanto', 'M.P.A.', 'Indryati Sunaryo', 'Budhi Prihartono', 'D.E.A'],\n",
       " ['Prihadi Setyo Darmanto'],\n",
       " ['Hang Tuah', 'MOCE.', 'Arnaz Driyastika M'],\n",
       " ['Slameto', 'Hermawan Judawisastra'],\n",
       " ['Zainal Abidin'],\n",
       " ['Yooce Yustiana', 'Angga Dwiartama'],\n",
       " [],\n",
       " ['Arjo Prawoto Wibowo', 'Fadhila Achmadi Rosyid'],\n",
       " ['Umar Fauzi', 'rer. nat.', 'Novian Kurniawan'],\n",
       " ['Agus M. Ramdhan'],\n",
       " ['Prayatni Soewondo'],\n",
       " ['Peng Li a', 'Jun Liu a', 'Zhang'],\n",
       " ['Prihadi Setyo Darmanto'],\n",
       " ['Tedi Yudistira'],\n",
       " ['Nang Dinh Le.',\n",
       "  'Steve Pontvianne.',\n",
       "  'Hélène Poirot.',\n",
       "  'Jean-Pierre Leclerc.',\n",
       "  'Marie-Noëlle Pons.',\n",
       "  'Henri H. Soclo'],\n",
       " ['Ã‚Â–Ing', 'Suhardi'],\n",
       " ['Made Astawa Rai', 'Mudjiono'],\n",
       " ['I Nengah Diasta'],\n",
       " ['Retno Gumilang Dewi', 'M.Env.Eng.Sc.', 'Megawati Zunita'],\n",
       " ['Nurdian Ichsan'],\n",
       " ['Zhuoyu Lei.', 'Guoquan Lv.', 'Long Ni.', 'Shiming Deng'],\n",
       " ['Akbar Adhi Satrio'],\n",
       " ['Arif Basuki'],\n",
       " ['Carolus Borromeus Rasrendra'],\n",
       " ['P. Soedigdo', 'Soekeni Soedigdo', 'Alice Diniarti'],\n",
       " ['Wiwiek M Daryanto', 'Ak.', 'CMA'],\n",
       " ['Gatot Yudoko', 'Arnaz Driyastika M'],\n",
       " ['Harkunti Pertiwi Rahayu'],\n",
       " ['Bambang Sunendar', 'Ahmad Nurudin Ms'],\n",
       " ['Petar M. Radjenovic', 'Zhong-Qun Tian', 'and Jian-Feng Li', 'Sai Duan'],\n",
       " ['Sonny Rustiadi'],\n",
       " ['Totok Darijanto', 'Lilik Eko Widodo', 'Hidayat'],\n",
       " [],\n",
       " ['Dwi Larso'],\n",
       " ['Bambang Sugeng S.'],\n",
       " ['Budi Hartono Setiamarga;Umen Rumendi', 'Weldmast'],\n",
       " [],\n",
       " ['Euis Sustini'],\n",
       " ['Mustika Sufiati Purwanegara'],\n",
       " ['Bambang Riyanto Trilaksono', 'Muhammad Riyansyah'],\n",
       " ['Suyud R.K. Msc'],\n",
       " ['Muhammad Miftahul Munir'],\n",
       " ['Iwan Setiawan'],\n",
       " ['Buchari'],\n",
       " ['Harkunti Pertiwi Rahayu'],\n",
       " ['John Welly'],\n",
       " ['Kusnandar Anggadiredja', 'Irda Fidrianny'],\n",
       " ['Nuning Nuraini'],\n",
       " ['Wiwiek M. Daryanto', 'SE-Ak', 'CMA'],\n",
       " ['Endah Sulistyawati'],\n",
       " ['Umar Khayam'],\n",
       " ['D. R. RODRIGUES',\n",
       "  'D. PINNA',\n",
       "  'AR. ABANOV',\n",
       "  'JAIRO SINOVA',\n",
       "  'AND K. EVERSCHOR-SITTE'],\n",
       " ['Suhadi Wido Saputro'],\n",
       " ['Arif Sarwo Wibowo'],\n",
       " [],\n",
       " ['Milan Vujanic', 'Bojan Maric', 'and Miladin Nesic'],\n",
       " ['Taufik Faturohman']]"
      ]
     },
     "execution_count": 29,
     "metadata": {},
     "output_type": "execute_result"
    }
   ],
   "source": [
    "random.sample(kontributor, 100)"
   ]
  },
  {
   "cell_type": "markdown",
   "id": "bfd978da-4abc-424e-ae64-cec32db8c2a0",
   "metadata": {},
   "source": [
    "## NetworkX"
   ]
  },
  {
   "cell_type": "code",
   "execution_count": 31,
   "id": "19543bcd-8cc1-42e3-b423-79af6a438bf2",
   "metadata": {},
   "outputs": [],
   "source": [
    "import networkx as nx"
   ]
  },
  {
   "cell_type": "code",
   "execution_count": 46,
   "id": "cb01d1a9-7ca9-4e9d-8036-333580dac940",
   "metadata": {},
   "outputs": [],
   "source": [
    "G = nx.Graph()"
   ]
  },
  {
   "cell_type": "code",
   "execution_count": 47,
   "id": "e390b215-722b-472b-9968-8c351e804f5d",
   "metadata": {},
   "outputs": [
    {
     "name": "stdout",
     "output_type": "stream",
     "text": [
      "Edi Leksono Nugraha\n",
      "Edi Leksono M. Eng\n",
      "Nugraha M. Eng\n"
     ]
    }
   ],
   "source": [
    "for revlist in kontributor:\n",
    "    if not revlist: continue\n",
    "    if len(revlist)==1:\n",
    "        tmp = revlist[0]\n",
    "        if tmp in G.nodes: G[tmp]['size']+=1\n",
    "        else: G.add_node(tmp, size=1)\n",
    "        continue\n",
    "    \n",
    "    for x,y in it.combinations(revlist, r=2):\n",
    "        print(x,y)\n",
    "    break"
   ]
  },
  {
   "cell_type": "code",
   "execution_count": 48,
   "id": "3f4bb4f7-b03a-42ab-85d0-9c1dd80581d8",
   "metadata": {},
   "outputs": [
    {
     "data": {
      "text/plain": [
       "\u001b[0;31mSignature:\u001b[0m \u001b[0mG\u001b[0m\u001b[0;34m.\u001b[0m\u001b[0madd_node\u001b[0m\u001b[0;34m(\u001b[0m\u001b[0mnode_for_adding\u001b[0m\u001b[0;34m,\u001b[0m \u001b[0;34m**\u001b[0m\u001b[0mattr\u001b[0m\u001b[0;34m)\u001b[0m\u001b[0;34m\u001b[0m\u001b[0;34m\u001b[0m\u001b[0m\n",
       "\u001b[0;31mDocstring:\u001b[0m\n",
       "Add a single node `node_for_adding` and update node attributes.\n",
       "\n",
       "Parameters\n",
       "----------\n",
       "node_for_adding : node\n",
       "    A node can be any hashable Python object except None.\n",
       "attr : keyword arguments, optional\n",
       "    Set or change node attributes using key=value.\n",
       "\n",
       "See Also\n",
       "--------\n",
       "add_nodes_from\n",
       "\n",
       "Examples\n",
       "--------\n",
       ">>> G = nx.Graph()  # or DiGraph, MultiGraph, MultiDiGraph, etc\n",
       ">>> G.add_node(1)\n",
       ">>> G.add_node(\"Hello\")\n",
       ">>> K3 = nx.Graph([(0, 1), (1, 2), (2, 0)])\n",
       ">>> G.add_node(K3)\n",
       ">>> G.number_of_nodes()\n",
       "3\n",
       "\n",
       "Use keywords set/change node attributes:\n",
       "\n",
       ">>> G.add_node(1, size=10)\n",
       ">>> G.add_node(3, weight=0.4, UTM=(\"13S\", 382871, 3972649))\n",
       "\n",
       "Notes\n",
       "-----\n",
       "A hashable object is one that can be used as a key in a Python\n",
       "dictionary. This includes strings, numbers, tuples of strings\n",
       "and numbers, etc.\n",
       "\n",
       "On many platforms hashable items also include mutables such as\n",
       "NetworkX Graphs, though one should be careful that the hash\n",
       "doesn't change on mutables.\n",
       "\u001b[0;31mFile:\u001b[0m      ~/Git/beta/digilib-contrib/venv/lib/python3.8/site-packages/networkx/classes/graph.py\n",
       "\u001b[0;31mType:\u001b[0m      method\n"
      ]
     },
     "metadata": {},
     "output_type": "display_data"
    }
   ],
   "source": [
    "?G.add_node"
   ]
  }
 ],
 "metadata": {
  "kernelspec": {
   "display_name": "digilib-contrib",
   "language": "python",
   "name": "digilib-contrib"
  },
  "language_info": {
   "codemirror_mode": {
    "name": "ipython",
    "version": 3
   },
   "file_extension": ".py",
   "mimetype": "text/x-python",
   "name": "python",
   "nbconvert_exporter": "python",
   "pygments_lexer": "ipython3",
   "version": "3.8.10"
  }
 },
 "nbformat": 4,
 "nbformat_minor": 5
}
