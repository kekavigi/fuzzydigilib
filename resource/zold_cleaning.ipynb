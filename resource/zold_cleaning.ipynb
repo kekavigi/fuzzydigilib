{
 "cells": [
  {
   "cell_type": "code",
   "execution_count": 1,
   "metadata": {},
   "outputs": [],
   "source": [
    "import re\n",
    "import os\n",
    "import unicodedata as uni\n",
    "from pickle import load, dump\n",
    "\n",
    "import pandas as pd\n",
    "import numpy as np\n",
    "import missingno"
   ]
  },
  {
   "cell_type": "markdown",
   "metadata": {},
   "source": [
    "## Mengumpulkan hasil unduhan"
   ]
  },
  {
   "cell_type": "code",
   "execution_count": 2,
   "metadata": {},
   "outputs": [],
   "source": [
    "total = []\n",
    "for root, _, files in os.walk('collected_infobox'):\n",
    "    for file in files:\n",
    "        with open(os.sep.join([root, file]), 'rb') as f:\n",
    "            total.extend(load(f))"
   ]
  },
  {
   "cell_type": "code",
   "execution_count": 3,
   "metadata": {},
   "outputs": [
    {
     "name": "stdout",
     "output_type": "stream",
     "text": [
      "['Fakultas', 'File', 'Jenis Koleksi', 'Kata Kunci', 'Kontributor / Dosen Pembimbing', 'Penerbit', 'Staf Input/Edit', 'Subjek', 'Sumber', 'Tanggal Input', 'abstrak', 'file', 'id', 'oleh', 'title']\n"
     ]
    }
   ],
   "source": [
    "total = pd.DataFrame(total)\n",
    "print(sorted([x for x in total]))"
   ]
  },
  {
   "cell_type": "markdown",
   "metadata": {},
   "source": [
    "Ubah nama kolom ke bentuk yang memudahkan proses perapian"
   ]
  },
  {
   "cell_type": "code",
   "execution_count": 4,
   "metadata": {},
   "outputs": [
    {
     "name": "stdout",
     "output_type": "stream",
     "text": [
      "['File', 'abstrak', 'fakultas', 'file', 'id', 'keyword', 'koleksi', 'kontributor', 'oleh', 'penerbit', 'staf', 'subjek', 'sumber', 'tanggal', 'title']\n"
     ]
    }
   ],
   "source": [
    "total.rename(columns={'Kontributor / Dosen Pembimbing':'kontributor',\n",
    "                      'Jenis Koleksi':'koleksi',\n",
    "                      'Penerbit':'penerbit',\n",
    "                      'Fakultas':'fakultas',\n",
    "                      'Sumber': 'sumber',\n",
    "                      'Subjek': 'subjek',\n",
    "                      'Kata Kunci':'keyword',\n",
    "                      'Tanggal Input':'tanggal',\n",
    "                      'Staf Input/Edit':'staf'},\n",
    "             inplace=True)\n",
    "print(sorted([x for x in total]))"
   ]
  },
  {
   "cell_type": "markdown",
   "metadata": {},
   "source": [
    "Saya memutuskan kolom `File` dan `staf` tidak relevan ketika membuat situs pencarian."
   ]
  },
  {
   "cell_type": "code",
   "execution_count": 5,
   "metadata": {},
   "outputs": [
    {
     "name": "stdout",
     "output_type": "stream",
     "text": [
      "['abstrak', 'fakultas', 'file', 'id', 'keyword', 'koleksi', 'kontributor', 'oleh', 'penerbit', 'subjek', 'sumber', 'tanggal', 'title']\n"
     ]
    }
   ],
   "source": [
    "total.drop(columns=['File', 'staf'], inplace=True)\n",
    "print(sorted([x for x in total]))"
   ]
  },
  {
   "cell_type": "markdown",
   "metadata": {},
   "source": [
    "# Analisis dan merapikan data per kolom"
   ]
  },
  {
   "cell_type": "markdown",
   "metadata": {},
   "source": [
    "## fakultas"
   ]
  },
  {
   "cell_type": "code",
   "execution_count": 6,
   "metadata": {},
   "outputs": [
    {
     "data": {
      "text/plain": [
       "['',\n",
       " 'Fakultas Ilmu dan Teknologi Kebumian (FITB)',\n",
       " 'Fakultas Matematika dan Ilmu Pengetahuan Alam (FMIPA)',\n",
       " 'Fakultas Seni Rupa dan Desain (FSRD)',\n",
       " 'Fakultas Teknik Mesin dan Dirgantara (FTMD)',\n",
       " 'Fakultas Teknik Pertambangan dan Perminyakan (FTTM)',\n",
       " 'Fakultas Teknik Sipil dan Lingkungan (FTSL)',\n",
       " 'Fakultas Teknologi Industri (FTI)',\n",
       " 'Sekolah Arsitektur, Perencanaan dan Pengembangan Kebijakan (SAPPK)',\n",
       " 'Sekolah Bisnis dan Manajemen (SBM)',\n",
       " 'Sekolah Farmasi (SF)',\n",
       " 'Sekolah Ilmu dan Teknologi Hayati (SITH)',\n",
       " 'Sekolah Teknik Elektro dan Informatika (STEI)']"
      ]
     },
     "execution_count": 6,
     "metadata": {},
     "output_type": "execute_result"
    }
   ],
   "source": [
    "sorted(set(total['fakultas']))"
   ]
  },
  {
   "cell_type": "markdown",
   "metadata": {},
   "source": [
    "Di akhir proses, saya akan mengunggah data ini ke sebuah database. Untuk itu saya memutuskan untuk memperkecil memori databse dengan hanya menyimpan akronim dari setiap fakultas."
   ]
  },
  {
   "cell_type": "code",
   "execution_count": 7,
   "metadata": {},
   "outputs": [
    {
     "name": "stdout",
     "output_type": "stream",
     "text": [
      "['', 'FITB', 'FMIPA', 'FSRD', 'FTI', 'FTMD', 'FTSL', 'FTTM', 'SAPPK', 'SBM', 'SF', 'SITH', 'STEI']\n"
     ]
    }
   ],
   "source": [
    "f = lambda val: val.split('(')[1][:-1] if val else ''\n",
    "total['fakultas'] = total['fakultas'].apply(f)\n",
    "print(sorted(set(total['fakultas'])))"
   ]
  },
  {
   "cell_type": "markdown",
   "metadata": {},
   "source": [
    "## penerbit"
   ]
  },
  {
   "cell_type": "markdown",
   "metadata": {},
   "source": [
    "Mari kita lihat berapa banyak data unik di kolom ini"
   ]
  },
  {
   "cell_type": "code",
   "execution_count": 8,
   "metadata": {},
   "outputs": [],
   "source": [
    "#sorted(set(total['penerbit']))"
   ]
  },
  {
   "cell_type": "markdown",
   "metadata": {},
   "source": [
    "penerbit sebagian besar merupakan gabungan nama fakultas dan nama prodi. Sebaiknya kita memisahkan kedua data ini, dan menggunakan data fakultas yang didapat untuk mengisi beberapa baris data di kolom `fakultas` yang kosong. "
   ]
  },
  {
   "cell_type": "code",
   "execution_count": 9,
   "metadata": {},
   "outputs": [],
   "source": [
    "def extract(penerbit):\n",
    "    if '-' not in penerbit:\n",
    "        return ('', penerbit)\n",
    "    elif penerbit == 'FTTM - Teknik Metalurgi - S1':\n",
    "        # outlier?\n",
    "        return ('FTTM', 'Teknik Metalurgi - S1')\n",
    "    else:\n",
    "        # coba untuk pisahkan nama fakultas dan nama prodi\n",
    "        fakultas, *prodi = sorted(penerbit.split('-'), key=len)\n",
    "        if fakultas.istitle():\n",
    "            # penerbit tidak mengandung nama fakultas\n",
    "            return ('', penerbit)\n",
    "        return (fakultas.strip(), prodi[0].strip())"
   ]
  },
  {
   "cell_type": "code",
   "execution_count": 10,
   "metadata": {},
   "outputs": [
    {
     "data": {
      "text/html": [
       "<div>\n",
       "<style scoped>\n",
       "    .dataframe tbody tr th:only-of-type {\n",
       "        vertical-align: middle;\n",
       "    }\n",
       "\n",
       "    .dataframe tbody tr th {\n",
       "        vertical-align: top;\n",
       "    }\n",
       "\n",
       "    .dataframe thead th {\n",
       "        text-align: right;\n",
       "    }\n",
       "</style>\n",
       "<table border=\"1\" class=\"dataframe\">\n",
       "  <thead>\n",
       "    <tr style=\"text-align: right;\">\n",
       "      <th></th>\n",
       "      <th>fakultas</th>\n",
       "      <th>prodi</th>\n",
       "    </tr>\n",
       "  </thead>\n",
       "  <tbody>\n",
       "    <tr>\n",
       "      <th>0</th>\n",
       "      <td></td>\n",
       "      <td></td>\n",
       "    </tr>\n",
       "    <tr>\n",
       "      <th>1</th>\n",
       "      <td></td>\n",
       "      <td></td>\n",
       "    </tr>\n",
       "    <tr>\n",
       "      <th>2</th>\n",
       "      <td>FTI</td>\n",
       "      <td>Teknik Fisika</td>\n",
       "    </tr>\n",
       "    <tr>\n",
       "      <th>3</th>\n",
       "      <td></td>\n",
       "      <td></td>\n",
       "    </tr>\n",
       "    <tr>\n",
       "      <th>4</th>\n",
       "      <td>FTSL</td>\n",
       "      <td>Teknik Sipil</td>\n",
       "    </tr>\n",
       "    <tr>\n",
       "      <th>...</th>\n",
       "      <td>...</td>\n",
       "      <td>...</td>\n",
       "    </tr>\n",
       "    <tr>\n",
       "      <th>57401</th>\n",
       "      <td>SAPPK</td>\n",
       "      <td>Arsitektur</td>\n",
       "    </tr>\n",
       "    <tr>\n",
       "      <th>57402</th>\n",
       "      <td>FTI</td>\n",
       "      <td>Logistik</td>\n",
       "    </tr>\n",
       "    <tr>\n",
       "      <th>57403</th>\n",
       "      <td>FITB</td>\n",
       "      <td>Teknik Geodesi dan Geomatika</td>\n",
       "    </tr>\n",
       "    <tr>\n",
       "      <th>57404</th>\n",
       "      <td></td>\n",
       "      <td>Teknik Sipil</td>\n",
       "    </tr>\n",
       "    <tr>\n",
       "      <th>57405</th>\n",
       "      <td></td>\n",
       "      <td>Teknik Sipil</td>\n",
       "    </tr>\n",
       "  </tbody>\n",
       "</table>\n",
       "<p>57406 rows × 2 columns</p>\n",
       "</div>"
      ],
      "text/plain": [
       "      fakultas                         prodi\n",
       "0                                           \n",
       "1                                           \n",
       "2          FTI                 Teknik Fisika\n",
       "3                                           \n",
       "4         FTSL                  Teknik Sipil\n",
       "...        ...                           ...\n",
       "57401    SAPPK                    Arsitektur\n",
       "57402      FTI                      Logistik\n",
       "57403     FITB  Teknik Geodesi dan Geomatika\n",
       "57404                           Teknik Sipil\n",
       "57405                           Teknik Sipil\n",
       "\n",
       "[57406 rows x 2 columns]"
      ]
     },
     "execution_count": 10,
     "metadata": {},
     "output_type": "execute_result"
    }
   ],
   "source": [
    "tmp = total.penerbit.apply(extract)\n",
    "tmp = pd.DataFrame({'fakultas':x, 'prodi':y} for x,y in tmp)\n",
    "tmp"
   ]
  },
  {
   "cell_type": "code",
   "execution_count": 11,
   "metadata": {},
   "outputs": [
    {
     "name": "stdout",
     "output_type": "stream",
     "text": [
      "both columns can be merged\n"
     ]
    }
   ],
   "source": [
    "for x, y in zip(total['fakultas'], tmp['fakultas']):\n",
    "    if x and y and x!=y: print(x, y)\n",
    "else:\n",
    "    print(\"both columns can be merged\")"
   ]
  },
  {
   "cell_type": "code",
   "execution_count": 12,
   "metadata": {},
   "outputs": [],
   "source": [
    "fakultas = []\n",
    "for x, y in zip(total['fakultas'], tmp['fakultas']):\n",
    "    if x: fakultas.append(x)\n",
    "    else: fakultas.append(y)"
   ]
  },
  {
   "cell_type": "markdown",
   "metadata": {},
   "source": [
    "Terapkan perubahan ke dataframe"
   ]
  },
  {
   "cell_type": "code",
   "execution_count": 13,
   "metadata": {},
   "outputs": [
    {
     "name": "stdout",
     "output_type": "stream",
     "text": [
      "['', 'FITB', 'FMIPA', 'FSRD', 'FTI', 'FTMD', 'FTSL', 'FTTM', 'SAPPK', 'SBM', 'SF', 'SITH', 'STEI']\n"
     ]
    }
   ],
   "source": [
    "total['fakultas'] = pd.Series(fakultas)\n",
    "print(sorted(set(total['fakultas'])))"
   ]
  },
  {
   "cell_type": "code",
   "execution_count": 14,
   "metadata": {},
   "outputs": [
    {
     "name": "stdout",
     "output_type": "stream",
     "text": [
      "['', 'Administrasi Bisnis', 'Aktuaria', 'Arsitektur', 'Arsitektur Lanskap', 'Astronomi', 'Biologi', 'Biomanajemen', 'Bioteknologi', 'Desain', 'Desain Interior', 'Desain Komunikasi Visual', 'Desain Produk', 'Farmasi', 'Farmasi Industri', 'Farmasi Klinik dan Masyarakat', 'Fisika', 'Geofisaka Terapan', 'Ilmu Seni Rupa dan Desain', 'Ilmu dan Teknik Material', 'Informatika', 'Instrumentasi dan Kontrol', 'Keolahragaan', 'Kewirausahaan', 'Kimia', 'Kriya', 'Lain-lain', 'Logistik', 'Magister Bisnis dan Administrasi - Teknologi', 'Manajemen Rekayasa Industri', 'Matematika', 'Meteorologi', 'Mikrobiologi', 'Oseanografi', 'Pengajaran Fisika', 'Pengajaran Kimia', 'Pengajaran Matematika', 'Pengelolaan Infrastruktur Air Bersih dan Sanitasi', 'Pengelolaan Sumberdaya Air', 'Perencanaan Wilayah dan Kota', 'Rancang Kota', 'Rekayasa  Infrastruktur Lingkungan', 'Rekayasa Hayati', 'Rekayasa Kehutanan', 'Rekayasa Nuklir', 'Rekayasa Pertambangan', 'Rekayasa Pertanian', 'Rekayasa Struktur', 'Sains Kebumian', 'Sains Komputasi', 'Sains Manajemen', 'Sains dan Teknologi Farmasi', 'Sekolah Bisnis dan Manajemen', 'Sekolah Ilmu dan Teknologi Hayati', 'Seni Rupa', 'Seni Rupa Murni', 'Seni Rupa Murni dan Desain', 'Sistem dan Teknik Jalan Raya', 'Sistem dan Teknologi Informasi', 'Studi Pembangunan', 'Teknik Air Tanah', 'Teknik Bioenergi dan Kemurgi', 'Teknik Biomedis', 'Teknik Dirgantara', 'Teknik Elektro', 'Teknik Elektro dan Informatika', 'Teknik Fisika', 'Teknik Geodesi dan Geomatika', 'Teknik Geofisika', 'Teknik Geologi', 'Teknik Industri', 'Teknik Informatika', 'Teknik Kelautan', 'Teknik Kimia', 'Teknik Lingkungan', 'Teknik Material', 'Teknik Mesin', 'Teknik Metalurgi', 'Teknik Metalurgi - S1', 'Teknik Panas Bumi', 'Teknik Pangan', 'Teknik Perkeretaapian', 'Teknik Perminyakan', 'Teknik Pertambangan', 'Teknik Sains', 'Teknik Sipil', 'Teknik Telekomunikasi', 'Teknik Tenaga Listrik', 'Teknik dan Ilmu Material', 'Teknik dan Manajemen Industri', 'Teknik dan Manajemen Sumber Daya Air', 'Teknik geologi', 'Teknologi Pasca Panen', 'Terapan Perencanaan Kepariwisataan', 'Transportasi', 'UPT Perpustakaan']\n"
     ]
    }
   ],
   "source": [
    "total['penerbit'] = tmp['prodi']\n",
    "print(sorted(set(total['penerbit'])))"
   ]
  },
  {
   "cell_type": "markdown",
   "metadata": {},
   "source": [
    "Saya memutuskan untuk tidak memperbaiki kesalahan penamaan penerbit, karena saya tidak mengetahui sumber yang dapat saya jadikan acuan penilaian."
   ]
  },
  {
   "cell_type": "markdown",
   "metadata": {},
   "source": [
    "## koleksi"
   ]
  },
  {
   "cell_type": "code",
   "execution_count": 15,
   "metadata": {},
   "outputs": [
    {
     "data": {
      "text/plain": [
       "['Anggota',\n",
       " 'Buku',\n",
       " 'Buku elektronik',\n",
       " 'Direktori Pakar',\n",
       " 'Jurnal elektronik',\n",
       " 'Kliping Elektronik',\n",
       " 'Koleksi Buku Langka',\n",
       " 'Laporan Penelitian',\n",
       " 'Literatur Kelabu',\n",
       " 'Organisasi',\n",
       " 'Peraturan hukum',\n",
       " 'Prosiding',\n",
       " 'S1-Tugas Akhir',\n",
       " 'S2 - Tesis',\n",
       " 'S3-Disertasi']"
      ]
     },
     "execution_count": 15,
     "metadata": {},
     "output_type": "execute_result"
    }
   ],
   "source": [
    "sorted(set(total['koleksi']))"
   ]
  },
  {
   "cell_type": "markdown",
   "metadata": {},
   "source": [
    "Di bagian ini saya memilih untuk mengubah nama tiga jenis koleksi. Menurut saya pribadi, dalam proses pencarian data, hasil terhadap kueri `Skripsi` akan lebih baik ketimbang `Tugas Akhir`. Tentu, hal ini pada akhirnya tergantung jenis database dan metode pencarian yang digunakan."
   ]
  },
  {
   "cell_type": "code",
   "execution_count": 16,
   "metadata": {},
   "outputs": [
    {
     "name": "stdout",
     "output_type": "stream",
     "text": [
      "['Anggota', 'Buku', 'Buku Elektronik', 'Direktori Pakar', 'Disertasi', 'Jurnal Elektronik', 'Kliping Elektronik', 'Koleksi Buku Langka', 'Laporan Penelitian', 'Literatur Kelabu', 'Organisasi', 'Peraturan Hukum', 'Prosiding', 'Skripsi', 'Tesis']\n"
     ]
    }
   ],
   "source": [
    "mapping = {'S1-Tugas Akhir':'Skripsi',\n",
    "           'S2 - Tesis':'Tesis',\n",
    "           'S3-Disertasi':'Disertasi'}\n",
    "\n",
    "f = lambda val: mapping[val] if val in mapping else val.title() \n",
    "total['koleksi'] = total['koleksi'].apply(f)\n",
    "print(sorted(set(total['koleksi'])))"
   ]
  },
  {
   "cell_type": "markdown",
   "metadata": {},
   "source": [
    "## Interlude: merapikan karakter\n",
    "Sejak tahap ini, kita akan berurusan dengan kolom-kolom yang berisi teks bebas, yang dapat berisi banyak keanehan dan kesalahan format. Saya mengawali proses ini dengan memetakan setiap karakter teks bebas ke representasi yang lebih mudah untuk saya akses."
   ]
  },
  {
   "cell_type": "code",
   "execution_count": 17,
   "metadata": {},
   "outputs": [
    {
     "name": "stdout",
     "output_type": "stream",
     "text": [
      "['\\t', '\\n', '\\r', ' ', '!', '\"', '#', '$', '%', '&', \"'\", '(', ')', '*', '+', ',', '-', '.', '/', '0', '1', '2', '3', '4', '5', '6', '7', '8', '9', ':', ';', '<', '=', '>', '?', '@', 'A', 'B', 'C', 'D', 'E', 'F', 'G', 'H', 'I', 'J', 'K', 'L', 'M', 'N', 'O', 'P', 'Q', 'R', 'S', 'T', 'U', 'V', 'W', 'X', 'Y', 'Z', '[', '\\\\', ']', '^', '_', '`', 'a', 'b', 'c', 'd', 'e', 'f', 'g', 'h', 'i', 'j', 'k', 'l', 'm', 'n', 'o', 'p', 'q', 'r', 's', 't', 'u', 'v', 'w', 'x', 'y', 'z', '{', '|', '}', '~', '\\x80', '\\x81', '\\x84', '\\x85', '\\x87', '\\x8d', '\\x8f', '\\x92', '\\x94', '\\x9d', '\\xa0', '¡', '¢', '£', '¤', '¥', '§', '¨', '©', 'ª', '«', '¬', '\\xad', '®', '¯', '°', '±', '²', '³', '´', 'µ', '¶', '·', '¸', '¹', 'º', '»', '¼', '½', '¾', 'Á', 'Â', 'Ã', 'Ä', 'Å', 'Ç', 'È', 'É', 'Í', 'Î', 'Ï', 'Ñ', 'Ò', 'Ó', 'Ô', 'Õ', 'Ö', '×', 'Ø', 'Ù', 'Ú', 'Ü', 'Þ', 'ß', 'à', 'á', 'â', 'ã', 'ä', 'å', 'æ', 'ç', 'è', 'é', 'ê', 'ë', 'ì', 'í', 'î', 'ï', 'ð', 'ñ', 'ó', 'ô', 'õ', 'ö', 'ø', 'ú', 'û', 'ü', 'ý', 'þ', 'ÿ', 'ā', 'ć', 'Č', 'č', 'Ē', 'ē', 'ğ', 'Ĥ', 'İ', 'ł', 'ń', 'Ŋ', 'ŋ', 'Ō', 'œ', 'Ř', 'ř', 'Ŝ', 'Š', 'š', 'Ŷ', 'ŷ', 'Ÿ', 'ž', 'ƒ', 'ơ', 'Ƭ', 'ǂ', 'Ǻ', 'ɑ', 'ɛ', 'ɳ', 'ɵ', 'ʋ', 'ʘ', 'ʹ', '˂', '˃', 'ˆ', 'ˈ', 'ˉ', '˗', '˚', '˜', 'ˣ', '́', '̂', '̃', '̄', '̅', '̇', '̈', '̊', '̴', '̶', '͇', '͓', ';', '·', 'Α', 'Β', 'Γ', 'Δ', 'Λ', 'Π', 'Ρ', 'Σ', 'Φ', 'Ω', 'ά', 'έ', 'ή', 'α', 'β', 'γ', 'δ', 'ε', 'ζ', 'η', 'θ', 'κ', 'λ', 'μ', 'ν', 'ξ', 'ο', 'π', 'ρ', 'σ', 'τ', 'υ', 'φ', 'χ', 'ψ', 'ω', 'ϒ', 'ϕ', 'ϴ', 'ϵ', 'Є', 'Г', 'Ф', 'Ц', 'с', 'х', 'є', 'ѱ', 'ӧ', '٭', 'ܿ', '݊', '\\u074c', 'ݎ', 'ߚ', 'ߤ', 'ଷ', '଼', 'ି', 'ᴼ', 'ᵒ', 'ḫ', 'ṁ', 'ά', '\\u2003', '\\u200b', '‐', '‒', '–', '—', '―', '‖', '‘', '’', '‚', '‛', '“', '”', '„', '‟', '†', '‡', '•', '…', '\\u2029', '‰', '′', '″', '‹', '›', '‾', '⁄', '⁓', '\\u2061', '⁰', '⁻', '₂', '€', '⃗', '℃', 'ℎ', 'ℓ', 'ℝ', '™', 'Ω', 'Å', 'Ⅱ', '←', '→', '↔', '⇌', '∂', '∅', '∆', '∈', '∑', '−', '∗', '∙', '√', '∞', '∧', '∩', '∪', '∫', '∶', '≅', '≈', '≠', '≡', '≤', '≥', '⊂', '⊆', '⊕', '⊙', '⋅', '⋯', '〈', '〉', '─', '│', '┬', '║', '▒', '■', '□', '▪', '►', '○', '◦', '♀', '♂', '❑', '➢', '⟶', '⨀', '〖', '〗', '셊', '쇙', '쇮', '숵', '숶', '\\uf020', '\\uf025', '\\uf028', '\\uf029', '\\uf02d', '\\uf02e', '\\uf02f', '\\uf03c', '\\uf044', '\\uf057', '\\uf059', '\\uf061', '\\uf062', '\\uf064', '\\uf065', '\\uf066', '\\uf067', '\\uf06c', '\\uf06d', '\\uf06e', '\\uf070', '\\uf072', '\\uf073', '\\uf077', '\\uf078', '\\uf07a', '\\uf0a2', '\\uf0a3', '\\uf0a5', '\\uf0ae', '\\uf0b0', '\\uf0b1', '\\uf0b3', '\\uf0b4', '\\uf0b7', '\\uf0bb', '\\uf0d2', '\\uf0d7', '\\uf0e0', '\\uf0ec', '\\uf6da', 'ﬀ', 'ﬁ', 'ﬂ', 'ﬃ', '\\ufeff', '～', '￼', '�', '𝐀', '𝐍', '𝐏', '𝐒', '𝐕', '𝐖', '𝐴', '𝐵', '𝐶', '𝐷', '𝐸', '𝐹', '𝐺', '𝐻', '𝐼', '𝐽', '𝐾', '𝐿', '𝑀', '𝑁', '𝑂', '𝑃', '𝑄', '𝑅', '𝑆', '𝑇', '𝑈', '𝑉', '𝑊', '𝑋', '𝑍', '𝑎', '𝑏', '𝑐', '𝑑', '𝑒', '𝑓', '𝑔', '𝑖', '𝑗', '𝑘', '𝑙', '𝑚', '𝑛', '𝑜', '𝑝', '𝑟', '𝑠', '𝑡', '𝑢', '𝑣', '𝑤', '𝑥', '𝑦', '𝑧', '𝑪', '𝑭', '𝑯', '𝑵', '𝑺', '𝒅', '𝒊', '𝒑', '𝒓', '𝒘', '𝚷', '𝛔', '𝛺', '𝛼', '𝛽', '𝛾', '𝛿', '𝜀', '𝜂', '𝜃', '𝜅', '𝜆', '𝜇', '𝜉', '𝜋', '𝜌', '𝜎', '𝜏', '𝜑', '𝜒', '𝜔', '𝜖', '𝜙', '𝝁', '𝝉', '𝞽', '𝟔', '\\U00100000', '\\U001000c6', '\\U00100374', '\\U0010053a', '\\U00100725', '\\U00100729', '\\U0010073f', '\\U00100747', '\\U00100749', '\\U00100bde', '\\U00100d52', '\\U0010123a', '\\U0010123b']\n"
     ]
    }
   ],
   "source": [
    "charset = set()\n",
    "\n",
    "for col in ['abstrak', 'keyword', 'kontributor', 'oleh', 'title', 'sumber', 'subjek']:\n",
    "    wordlist = set(total[col])\n",
    "    charlist = set(''.join(wordlist))\n",
    "    charset.update(charlist)\n",
    "    \n",
    "print(sorted(charset))\n",
    "# sure... handling UTF-8 data is a mess. BDSM++."
   ]
  },
  {
   "cell_type": "code",
   "execution_count": 18,
   "metadata": {},
   "outputs": [
    {
     "name": "stdout",
     "output_type": "stream",
     "text": [
      "[' ', '!', '\"', '#', '$', '%', '&', \"'\", '(', ')', '*', '+', ',', '-', '.', '/', '0', '1', '2', '3', '4', '5', '6', '7', '8', '9', ':', ';', '<', '=', '>', '?', '@', 'A', 'B', 'C', 'D', 'E', 'F', 'G', 'H', 'I', 'J', 'K', 'L', 'M', 'N', 'O', 'P', 'Q', 'R', 'S', 'T', 'U', 'V', 'W', 'X', 'Y', 'Z', '[', '\\\\', ']', '^', '_', '`', 'a', 'b', 'c', 'd', 'e', 'f', 'g', 'h', 'i', 'j', 'k', 'l', 'm', 'n', 'o', 'p', 'q', 'r', 's', 't', 'u', 'v', 'w', 'x', 'y', 'z', '{', '|', '}', '~', '', '', '', '', '', '', '', '', '', '', ' ', '¡', '¢', '£', '¤', '¥', '§', ' ̈', '©', 'a', '«', '¬', '®', ' ̄', '°', '±', '2', '3', ' ́', 'μ', '¶', '·', ' ̧', '1', 'o', '»', '1⁄4', '1⁄2', '3⁄4', 'Á', 'Â', 'Ã', 'Ä', 'Å', 'Ç', 'È', 'É', 'Í', 'Î', 'Ï', 'Ñ', 'Ò', 'Ó', 'Ô', 'Õ', 'Ö', '×', 'Ø', 'Ù', 'Ú', 'Ü', 'Þ', 'ß', 'à', 'á', 'â', 'ã', 'ä', 'å', 'æ', 'ç', 'è', 'é', 'ê', 'ë', 'ì', 'í', 'î', 'ï', 'ð', 'ñ', 'ó', 'ô', 'õ', 'ö', 'ø', 'ú', 'û', 'ü', 'ý', 'þ', 'ÿ', 'ā', 'ć', 'Č', 'č', 'Ē', 'ē', 'ğ', 'Ĥ', 'İ', 'ł', 'ń', 'Ŋ', 'ŋ', 'Ō', 'œ', 'Ř', 'ř', 'Ŝ', 'Š', 'š', 'Ŷ', 'ŷ', 'Ÿ', 'ž', 'ƒ', 'ơ', 'Ƭ', 'ǂ', 'Ǻ', 'ɑ', 'ɛ', 'ɳ', 'ɵ', 'ʋ', 'ʘ', 'ʹ', '˂', '˃', 'ˆ', 'ˈ', 'ˉ', '˗', ' ̊', ' ̃', 'x', '́', '̂', '̃', '̄', '̅', '̇', '̈', '̊', '̴', '̶', '͇', '͓', ';', '·', 'Α', 'Β', 'Γ', 'Δ', 'Λ', 'Π', 'Ρ', 'Σ', 'Φ', 'Ω', 'ά', 'έ', 'ή', 'α', 'β', 'γ', 'δ', 'ε', 'ζ', 'η', 'θ', 'κ', 'λ', 'μ', 'ν', 'ξ', 'ο', 'π', 'ρ', 'σ', 'τ', 'υ', 'φ', 'χ', 'ψ', 'ω', 'Υ', 'φ', 'Θ', 'ε', 'Є', 'Г', 'Ф', 'Ц', 'с', 'х', 'є', 'ѱ', 'ӧ', '٭', 'ܿ', '݊', '', 'ݎ', 'ߚ', 'ߤ', 'ଷ', '଼', 'ି', 'O', 'o', 'ḫ', 'ṁ', 'ά', ' ', '‐', '‒', '–', '—', '―', '‖', '‘', '’', '‚', '‛', '“', '”', '„', '‟', '†', '‡', '•', '...', '‰', '′', '′′', '‹', '›', ' ̅', '⁄', '⁓', '0', '−', '2', '€', '⃗', '°C', 'h', 'l', 'R', 'TM', 'Ω', 'Å', 'II', '←', '→', '↔', '⇌', '∂', '∅', '∆', '∈', '∑', '−', '∗', '∙', '√', '∞', '∧', '∩', '∪', '∫', '∶', '≅', '≈', '≠', '≡', '≤', '≥', '⊂', '⊆', '⊕', '⊙', '⋅', '⋯', '〈', '〉', '─', '│', '┬', '║', '▒', '■', '□', '▪', '►', '○', '◦', '♀', '♂', '❑', '➢', '⟶', '⨀', '〖', '〗', '셊', '쇙', '쇮', '숵', '숶', '', '', '', '', '', '', '', '', '', '', '', '', '', '', '', '', '', '', '', '', '', '', '', '', '', '', '', '', '', '', '', '', '', '', '', '', '', '', '', '', '', 'ff', 'fi', 'fl', 'ffi', '~', '￼', '�', 'A', 'N', 'P', 'S', 'V', 'W', 'A', 'B', 'C', 'D', 'E', 'F', 'G', 'H', 'I', 'J', 'K', 'L', 'M', 'N', 'O', 'P', 'Q', 'R', 'S', 'T', 'U', 'V', 'W', 'X', 'Z', 'a', 'b', 'c', 'd', 'e', 'f', 'g', 'i', 'j', 'k', 'l', 'm', 'n', 'o', 'p', 'r', 's', 't', 'u', 'v', 'w', 'x', 'y', 'z', 'C', 'F', 'H', 'N', 'S', 'd', 'i', 'p', 'r', 'w', 'Π', 'σ', 'Ω', 'α', 'β', 'γ', 'δ', 'ε', 'η', 'θ', 'κ', 'λ', 'μ', 'ξ', 'π', 'ρ', 'σ', 'τ', 'φ', 'χ', 'ω', 'ε', 'φ', 'μ', 'τ', 'τ', '6', '', '', '', '', '', '', '', '', '', '', '', '', '']\n"
     ]
    }
   ],
   "source": [
    "# let normalize using NFKC normal form. in simple term\n",
    "# it means changing chars to more ASCII like chars\n",
    "# ¾ as 3/4, 𝐍 as N, etc...\n",
    "\n",
    "# handle special case earlier\n",
    "mapping = {'\\t': ' ', # tab\n",
    "           '\\n': '\\n', # \"variations\" of newline\n",
    "           '\\r': '\\n', #\n",
    "           '\\u2028': '\\n',\n",
    "           '\\u2029': '\\n',\n",
    "           '\\u200b': '', # zero width chars... why?\n",
    "           '\\u2061': '',\n",
    "           '\\xad':'',\n",
    "           '\\ufeff':'', # i wonder from where this come from...\n",
    "          }\n",
    "\n",
    "charset = charset - set(mapping.keys())\n",
    "\n",
    "def normalize(char):\n",
    "    # check if char has definition in UCD\n",
    "    try: uni.name(char)\n",
    "    # for now... just remove it\n",
    "    except: return ''\n",
    "    return uni.normalize('NFKC', char)\n",
    "\n",
    "for c in charset:\n",
    "    mapping[c] = normalize(c)\n",
    "\n",
    "print([mapping[c] for c in sorted(charset)]) "
   ]
  },
  {
   "cell_type": "markdown",
   "metadata": {},
   "source": [
    "Lakukan perapian"
   ]
  },
  {
   "cell_type": "code",
   "execution_count": 19,
   "metadata": {},
   "outputs": [],
   "source": [
    "pattern = '|'.join(sorted(re.escape(c) for c in mapping))"
   ]
  },
  {
   "cell_type": "code",
   "execution_count": 20,
   "metadata": {},
   "outputs": [],
   "source": [
    "normalize = lambda text: re.sub(pattern, lambda m: mapping.get(m.group(0)), text, flags=re.IGNORECASE)\n",
    "multi_space = lambda x: re.sub(' ( )+', ' ', x)\n",
    "under4word = lambda text: '' if len(text)<4 else text"
   ]
  },
  {
   "cell_type": "code",
   "execution_count": 21,
   "metadata": {},
   "outputs": [
    {
     "name": "stdout",
     "output_type": "stream",
     "text": [
      "CPU times: user 2min 29s, sys: 147 ms, total: 2min 30s\n",
      "Wall time: 2min 30s\n"
     ]
    }
   ],
   "source": [
    "%%time\n",
    "\n",
    "for col in ['abstrak', 'title', 'keyword', 'oleh', 'kontributor', 'sumber', 'subjek']:\n",
    "    if col!='abstrak':\n",
    "        # ada baiknya membiarkan newline pada abstrak\n",
    "        # namun untuk kolom selain abstrak...\n",
    "        total[col] = total[col].apply(lambda x: x.replace('\\n',' '))\n",
    "    \n",
    "    total[col] = total[col].apply(normalize)\n",
    "    total[col] = total[col].apply(multi_space).apply(str.strip)\n",
    "    total[col] = total[col].apply(under4word)"
   ]
  },
  {
   "cell_type": "markdown",
   "metadata": {},
   "source": [
    "## subjek"
   ]
  },
  {
   "cell_type": "markdown",
   "metadata": {},
   "source": [
    "Mari kita lihat berapa banyak data unik, dan berapa persen data non-NA kolom ini"
   ]
  },
  {
   "cell_type": "code",
   "execution_count": 22,
   "metadata": {},
   "outputs": [
    {
     "data": {
      "text/plain": [
       "(124, 13.080514231961816)"
      ]
     },
     "execution_count": 22,
     "metadata": {},
     "output_type": "execute_result"
    }
   ],
   "source": [
    "len(set(total['subjek'])), 100*len(total[total['subjek']!=''])/len(total)"
   ]
  },
  {
   "cell_type": "markdown",
   "metadata": {},
   "source": [
    "Hanya 13%. Saya ingin melihat bagaimana sebaran data ini di dataframe, relatif terhadap sebaran data NA kolom-kolom lain."
   ]
  },
  {
   "cell_type": "code",
   "execution_count": 23,
   "metadata": {},
   "outputs": [
    {
     "data": {
      "image/png": "[encoded data removed]",
      "text/plain": [
       "<Figure size 1800x720 with 1 Axes>"
      ]
     },
     "metadata": {
      "needs_background": "light"
     },
     "output_type": "display_data"
    }
   ],
   "source": [
    "tmp = total[total['subjek']!=''].copy().replace('', np.nan, regex=True)\n",
    "missingno.matrix(tmp, sparkline=False);"
   ]
  },
  {
   "cell_type": "code",
   "execution_count": 24,
   "metadata": {},
   "outputs": [],
   "source": [
    "# print(sorted(set(total['subjek'])))"
   ]
  },
  {
   "cell_type": "markdown",
   "metadata": {},
   "source": [
    "Terlihat keterisian kolom subjek menjadi indikator bagus keterisian kolom-kolom lainnya. Saya memutuskan untuk membiarkannya."
   ]
  },
  {
   "cell_type": "markdown",
   "metadata": {},
   "source": [
    "## sumber"
   ]
  },
  {
   "cell_type": "markdown",
   "metadata": {},
   "source": [
    "Mari kita lihat berapa banyak data unik, dan berapa persen data non-NA kolom ini"
   ]
  },
  {
   "cell_type": "code",
   "execution_count": 25,
   "metadata": {},
   "outputs": [
    {
     "data": {
      "text/plain": [
       "(2982, 7.730899209141902)"
      ]
     },
     "execution_count": 25,
     "metadata": {},
     "output_type": "execute_result"
    }
   ],
   "source": [
    "len(set(total['sumber'])), 100*len(total[total['sumber']!=''])/len(total)"
   ]
  },
  {
   "cell_type": "markdown",
   "metadata": {},
   "source": [
    "Lebih sedikit, hanya 7.7%. Saya ingin melihat bagaimana sebaran data ini di dataframe, relatif terhadap sebaran data NA kolom-kolom lain."
   ]
  },
  {
   "cell_type": "code",
   "execution_count": 26,
   "metadata": {},
   "outputs": [
    {
     "data": {
      "image/png": "[encoded data removed]",
      "text/plain": [
       "<Figure size 1800x720 with 1 Axes>"
      ]
     },
     "metadata": {
      "needs_background": "light"
     },
     "output_type": "display_data"
    }
   ],
   "source": [
    "tmp = total[total['sumber']!=''].copy().replace('^.{,3}$', np.nan, regex=True)\n",
    "missingno.matrix(tmp, sparkline=False);"
   ]
  },
  {
   "cell_type": "markdown",
   "metadata": {},
   "source": [
    "Terlihat keterisian kolom subjek menjadi indikator bagus keterisian kolom-kolom lainnya. Saya memutuskan untuk membiarkannya."
   ]
  },
  {
   "cell_type": "code",
   "execution_count": 27,
   "metadata": {},
   "outputs": [
    {
     "data": {
      "text/plain": [
       "['',\n",
       " '. CURRICULUM STUDIES, 2015 Vol. 47, No. 4, 486–507, http://dx.doi.org/10.1080/00220272.2015.1006685',\n",
       " '.TELKOMNIKA; Yogyakarta Vol. 10, Iss. 2, (Jun 2012): 335-342.',\n",
       " '.TELKOMNIKA; Yogyakarta Vol. 6, Iss. 1, (Apr 2008): 15-20.',\n",
       " '.TELKOMNIKA; Yogyakarta Vol. 7, Iss. 2, (Aug 2009): 83-92.',\n",
       " '.TELKOMNIKA; Yogyakarta Vol. 9, Iss. 3, (Dec 2011): 473-482',\n",
       " '/ Science of the Total Environment 650 (2019) 1678–1687',\n",
       " '1 AUGUST 2019 | VOL 572 | NATURE | 7',\n",
       " '1 Faculty of Health, University of Applied Sciences Leiden, Leiden, The Netherlands, 2 Clinical Neurodevelopmental Sciences, Faculty of Social Sciences, Leiden University, Leiden, The Netherlands, 3 KenVak, Research Centre for the Arts Therapies, Heerlen, The Netherlands, 4 Centre for the Arts Therapies, Zuyd University of Applied Sciences, Heerlen, The Netherlands, 5 Faculty of Psychology and Educational Sciences, Open University, Heerlen, The Netherlands',\n",
       " '1 JUNE 2017 | VOL 546 | NATURE | 37']"
      ]
     },
     "execution_count": 27,
     "metadata": {},
     "output_type": "execute_result"
    }
   ],
   "source": [
    "sorted(set(total['sumber']))[:10]"
   ]
  },
  {
   "cell_type": "markdown",
   "metadata": {},
   "source": [
    "Kita perlu melakukan regex untuk menghilangkan penggunaan spasi ganda."
   ]
  },
  {
   "cell_type": "code",
   "execution_count": 28,
   "metadata": {},
   "outputs": [],
   "source": [
    "tmp = total['sumber']\n",
    "tmp = tmp.apply(multi_space).apply(str.strip)\n",
    "\n",
    "#sorted(set(tmp))[:100]"
   ]
  },
  {
   "cell_type": "markdown",
   "metadata": {},
   "source": [
    "Setelah melihat 100 data pertama, saya memutuskan untuk merapikan penulisan nama bulan. Tentu, kedepannya saya ingin dapat merapikan format sitasi jurnal NATURE yang sangat berantakan."
   ]
  },
  {
   "cell_type": "code",
   "execution_count": 29,
   "metadata": {},
   "outputs": [],
   "source": [
    "for month in 'NATURE, January, February, March, April, May, June, July, August, September, October, November, December'.upper().split(', '):\n",
    "    regexed = '( )*'.join(list(month))\n",
    "    tmp = tmp.apply(lambda x: re.sub(regexed, month, x))"
   ]
  },
  {
   "cell_type": "code",
   "execution_count": 30,
   "metadata": {},
   "outputs": [],
   "source": [
    "total['sumber'] = tmp"
   ]
  },
  {
   "cell_type": "markdown",
   "metadata": {},
   "source": [
    "## title, keyword"
   ]
  },
  {
   "cell_type": "code",
   "execution_count": 31,
   "metadata": {},
   "outputs": [
    {
     "name": "stdout",
     "output_type": "stream",
     "text": [
      "[' ', '!', '\"', '#', '%', '&', \"'\", '(', ')', '*', '+', ',', '-', '.', '/', '0', '1', '2', '3', '4', '5', '6', '7', '8', '9', ':', ';', '<', '=', '>', '?', '@', 'A', 'B', 'C', 'D', 'E', 'F', 'G', 'H', 'I', 'J', 'K', 'L', 'M', 'N', 'O', 'P', 'Q', 'R', 'S', 'T', 'U', 'V', 'W', 'X', 'Y', 'Z', '[', '\\\\', ']', '^', '_', '`', 'a', 'b', 'c', 'd', 'e', 'f', 'g', 'h', 'i', 'j', 'k', 'l', 'm', 'n', 'o', 'p', 'q', 'r', 's', 't', 'u', 'v', 'w', 'x', 'y', 'z', '{', '|', '}', '~', '¡', '©', '®', '°', '±', '¶', '·', 'Â', 'Ã', 'Ä', 'Å', 'Ç', 'È', 'É', 'Í', 'Ï', 'Ñ', 'Ö', '×', 'Ø', 'Þ', 'ß', 'ã', 'ä', 'ç', 'è', 'é', 'í', 'ó', 'ö', 'ü', 'Ō', 'ƒ', 'ơ', '˗', '́', '̈', '̊', '̶', 'Α', 'Β', 'Γ', 'Δ', 'Υ', 'α', 'β', 'γ', 'δ', 'ε', 'κ', 'μ', 'τ', '‐', '–', '—', '‘', '’', '‚', '“', '”', '„', '•', '‰', '⁄', '€', '−', '∙', '∞', '≤']\n"
     ]
    }
   ],
   "source": [
    "wordlist = set(total['title'])\n",
    "print(sorted(set(''.join(wordlist))))\n",
    "\n",
    "# beberapa pustaka punya judul aestetik... biarkan saja"
   ]
  },
  {
   "cell_type": "markdown",
   "metadata": {},
   "source": [
    "## oleh\n",
    "kesalahan yang umum saya lihat disini adalah mengikutkan data nama pembimbing."
   ]
  },
  {
   "cell_type": "code",
   "execution_count": 32,
   "metadata": {},
   "outputs": [],
   "source": [
    "# lihat jika ada overlap \"kata\" (kumpulan karakter yang dipisahkan oleh spasi)\n",
    "f = lambda a,b: set(a.split()).intersection(set(b.split()))\n",
    "\n",
    "tmp = total[['oleh', 'kontributor']].apply(lambda x: f(x[0], x[1]), axis=1)"
   ]
  },
  {
   "cell_type": "code",
   "execution_count": 33,
   "metadata": {},
   "outputs": [
    {
     "data": {
      "text/plain": [
       "{0, 1, 2, 3, 4, 5, 6, 7, 8, 9, 10, 11, 12, 13, 14, 15, 16}"
      ]
     },
     "execution_count": 33,
     "metadata": {},
     "output_type": "execute_result"
    }
   ],
   "source": [
    "# banyak kata yang overlapping, maksimum 16 kata???\n",
    "set(tmp.apply(len))"
   ]
  },
  {
   "cell_type": "code",
   "execution_count": 34,
   "metadata": {},
   "outputs": [
    {
     "name": "stdout",
     "output_type": "stream",
     "text": [
      "10\n",
      "SUSANTI ALAWIYAH (NIM 32304004); Pembimbing : Prof. Dr. Ir. Djoko Santoso, M.Sc., Dr. Wawan Gunawan\n",
      "Pembimbing : Prof. Dr. Ir. Djoko Santoso, M.Sc., Dr. Wawan Gunawan A. Kadir, dan Dr. Darharta Dahrin\n"
     ]
    }
   ],
   "source": [
    "for ll in range(10,17):\n",
    "    print(ll)\n",
    "    for _,ol,kon in total[['oleh','kontributor']][tmp.apply(len)==ll].to_records():\n",
    "        print(ol)\n",
    "        print(kon)\n",
    "        # break untuk menunjukkan satu kasus saja...\n",
    "        break\n",
    "    break"
   ]
  },
  {
   "cell_type": "code",
   "execution_count": 35,
   "metadata": {},
   "outputs": [],
   "source": [
    "from difflib import SequenceMatcher\n",
    "\n",
    "def cropped(string1, string2):\n",
    "    a = string1.lower()\n",
    "    b = string2.lower()\n",
    "    \n",
    "    match = SequenceMatcher(None, a, b).find_longest_match(0, len(a), 0, len(b))\n",
    "    if match.a+match.size==len(a) and match.b==0:\n",
    "        # string2 terikut di string1\n",
    "        return string1[:match.a].strip()\n",
    "    return string1"
   ]
  },
  {
   "cell_type": "code",
   "execution_count": 36,
   "metadata": {},
   "outputs": [
    {
     "data": {
      "text/plain": [
       "'SUSANTI ALAWIYAH (NIM 32304004);'"
      ]
     },
     "execution_count": 36,
     "metadata": {},
     "output_type": "execute_result"
    }
   ],
   "source": [
    "cropped(ol,kon)"
   ]
  },
  {
   "cell_type": "code",
   "execution_count": 37,
   "metadata": {},
   "outputs": [],
   "source": [
    "total['oleh'] = total[['oleh', 'kontributor']].apply(lambda x: cropped(x[0], x[1]), axis=1)"
   ]
  },
  {
   "cell_type": "markdown",
   "metadata": {},
   "source": [
    "adanya data nim di kolom oleh tidak harmful untuk use case kita... biarkan saja"
   ]
  },
  {
   "cell_type": "markdown",
   "metadata": {},
   "source": [
    "## kontributor"
   ]
  },
  {
   "cell_type": "markdown",
   "metadata": {},
   "source": [
    "data kontributor tercemar dengan format penulisan pembimbing dan ekuivalensinya (supervisor, ketua, ...), dan penulisan gelar yang tidak konsisten -- seringkali menyalahi aturan. Walaupun perapian dapat dilakukan, hal ini akan menyita waktu. Karenanya, saya mengabaikan masalah ini."
   ]
  },
  {
   "cell_type": "markdown",
   "metadata": {},
   "source": [
    "## abstrak"
   ]
  },
  {
   "cell_type": "markdown",
   "metadata": {},
   "source": [
    "Ada banyak kesalahan yang dapat terjadi di kolom ini. Saya memutuskan untuk menghapus sebagian besar dari teks yang menunjukkan data abstrak yang kosong; menghapus teks abstrak `tidak ada abstrak` sebagai contoh."
   ]
  },
  {
   "cell_type": "code",
   "execution_count": 38,
   "metadata": {},
   "outputs": [],
   "source": [
    "tmp = total['abstrak'][total['abstrak'].apply(lambda x: len(x) < 100)]"
   ]
  },
  {
   "cell_type": "code",
   "execution_count": 39,
   "metadata": {},
   "outputs": [
    {
     "data": {
      "text/plain": [
       "160"
      ]
     },
     "execution_count": 39,
     "metadata": {},
     "output_type": "execute_result"
    }
   ],
   "source": [
    "len(set(tmp))"
   ]
  },
  {
   "cell_type": "code",
   "execution_count": 40,
   "metadata": {},
   "outputs": [],
   "source": [
    "# I'm from future cell:\n",
    "\n",
    "f = lambda x: x if len(x)>24 else ''\n",
    "g = lambda x: '' if len(x)<50 and 'abstrak' in x.lower() else x\n",
    "\n",
    "tmp = tmp.apply(f).apply(g)"
   ]
  },
  {
   "cell_type": "code",
   "execution_count": 41,
   "metadata": {},
   "outputs": [],
   "source": [
    "# tidak semuanya tertangani sih... tapi yaudahlah\n",
    "# print(tmp)\n",
    "\n",
    "multi_line = lambda x: re.sub('(\\n( )*){2,}', '\\n\\n', x)\n",
    "\n",
    "total['abstrak'] = total['abstrak'].apply(f).apply(g).apply(multi_line)"
   ]
  },
  {
   "cell_type": "markdown",
   "metadata": {},
   "source": [
    "## file"
   ]
  },
  {
   "cell_type": "markdown",
   "metadata": {},
   "source": [
    "Pada bagian ini, saya ingin menyimpan (dan menunjukkan) data URL file yang dapat diakses oleh publik"
   ]
  },
  {
   "cell_type": "code",
   "execution_count": 42,
   "metadata": {},
   "outputs": [],
   "source": [
    "tmp = []\n",
    "\n",
    "for _, i,fs in total[['id', 'file']].to_records():\n",
    "    for fname, link in fs:\n",
    "        gid = link.split('/')[-1]\n",
    "        if gid.isdigit(): gid = int(gid)\n",
    "        else: gid=-1\n",
    "        tmp.append({'id':i, 'fname':fname.strip(), 'gid':gid})\n",
    "\n",
    "tmp = pd.DataFrame(tmp)"
   ]
  },
  {
   "cell_type": "code",
   "execution_count": 43,
   "metadata": {},
   "outputs": [],
   "source": [
    "gdl = []\n",
    "for root, _, files in os.walk('collected_file'):\n",
    "    for file in files:\n",
    "        try:\n",
    "            with open(os.sep.join([root, file]), 'rb') as f: gdl.extend(load(f))\n",
    "        except EOFError:\n",
    "            pass\n",
    "\n",
    "gdl = pd.DataFrame(gdl)\n",
    "gdl['file'] = gdl['file'].apply(lambda x: x.strip())"
   ]
  },
  {
   "cell_type": "code",
   "execution_count": 44,
   "metadata": {},
   "outputs": [
    {
     "data": {
      "text/plain": [
       "(219846, 192252)"
      ]
     },
     "execution_count": 44,
     "metadata": {},
     "output_type": "execute_result"
    }
   ],
   "source": [
    "len(tmp), len(gdl)"
   ]
  },
  {
   "cell_type": "code",
   "execution_count": 45,
   "metadata": {},
   "outputs": [
    {
     "data": {
      "text/html": [
       "<div>\n",
       "<style scoped>\n",
       "    .dataframe tbody tr th:only-of-type {\n",
       "        vertical-align: middle;\n",
       "    }\n",
       "\n",
       "    .dataframe tbody tr th {\n",
       "        vertical-align: top;\n",
       "    }\n",
       "\n",
       "    .dataframe thead th {\n",
       "        text-align: right;\n",
       "    }\n",
       "</style>\n",
       "<table border=\"1\" class=\"dataframe\">\n",
       "  <thead>\n",
       "    <tr style=\"text-align: right;\">\n",
       "      <th></th>\n",
       "      <th>id</th>\n",
       "      <th>fname</th>\n",
       "      <th>gid</th>\n",
       "      <th>file</th>\n",
       "      <th>url</th>\n",
       "    </tr>\n",
       "  </thead>\n",
       "  <tbody>\n",
       "    <tr>\n",
       "      <th>0</th>\n",
       "      <td>22201</td>\n",
       "      <td>2017 TA PP Frans Ambaa 1-ABSTRAK.pdf</td>\n",
       "      <td>113712</td>\n",
       "      <td>2017 TA PP Frans Ambaa 1-ABSTRAK.pdf</td>\n",
       "      <td>https://digilib.itb.ac.id/./assets/./files/dis...</td>\n",
       "    </tr>\n",
       "    <tr>\n",
       "      <th>1</th>\n",
       "      <td>22202</td>\n",
       "      <td>2013 TA PP FRANS EDISON 1-COVER.pdf</td>\n",
       "      <td>113713</td>\n",
       "      <td>2013 TA PP FRANS EDISON 1-COVER.pdf</td>\n",
       "      <td>https://digilib.itb.ac.id/./assets/./files/dis...</td>\n",
       "    </tr>\n",
       "    <tr>\n",
       "      <th>2</th>\n",
       "      <td>22202</td>\n",
       "      <td>2013 TA PP FRANS EDISON 1-BAB 1.pdf</td>\n",
       "      <td>113714</td>\n",
       "      <td>2013 TA PP FRANS EDISON 1-BAB 1.pdf</td>\n",
       "      <td>https://digilib.itb.ac.id/./assets/./files/dis...</td>\n",
       "    </tr>\n",
       "    <tr>\n",
       "      <th>3</th>\n",
       "      <td>22202</td>\n",
       "      <td>2013 TA PP FRANS EDISON 1-BAB 2.pdf</td>\n",
       "      <td>113715</td>\n",
       "      <td>2013 TA PP FRANS EDISON 1-BAB 2.pdf</td>\n",
       "      <td>https://digilib.itb.ac.id/./assets/./files/dis...</td>\n",
       "    </tr>\n",
       "    <tr>\n",
       "      <th>4</th>\n",
       "      <td>22202</td>\n",
       "      <td>2013 TA PP FRANS EDISON 1-BAB 3.pdf</td>\n",
       "      <td>113716</td>\n",
       "      <td>2013 TA PP FRANS EDISON 1-BAB 3.pdf</td>\n",
       "      <td>https://digilib.itb.ac.id/./assets/./files/dis...</td>\n",
       "    </tr>\n",
       "    <tr>\n",
       "      <th>...</th>\n",
       "      <td>...</td>\n",
       "      <td>...</td>\n",
       "      <td>...</td>\n",
       "      <td>...</td>\n",
       "      <td>...</td>\n",
       "    </tr>\n",
       "    <tr>\n",
       "      <th>145733</th>\n",
       "      <td>36492</td>\n",
       "      <td>2019_TS_PP_NADANA_AYZAH_AZIS_1-ABSTRAK.pdf</td>\n",
       "      <td>162383</td>\n",
       "      <td>2019_TS_PP_NADANA_AYZAH_AZIS_1-ABSTRAK.pdf</td>\n",
       "      <td>https://digilib.itb.ac.id/./assets/./files/201...</td>\n",
       "    </tr>\n",
       "    <tr>\n",
       "      <th>145734</th>\n",
       "      <td>36494</td>\n",
       "      <td>23215125_abstrak_tesis_indonesia.pdf</td>\n",
       "      <td>162385</td>\n",
       "      <td>23215125_abstrak_tesis_indonesia.pdf</td>\n",
       "      <td>https://digilib.itb.ac.id/./assets/./files/201...</td>\n",
       "    </tr>\n",
       "    <tr>\n",
       "      <th>145735</th>\n",
       "      <td>36495</td>\n",
       "      <td>2019_TA_PP_Fazat_Faridah_Alfani_1-ABSTRAK.pdf</td>\n",
       "      <td>162388</td>\n",
       "      <td>2019_TA_PP_Fazat_Faridah_Alfani_1-ABSTRAK.pdf</td>\n",
       "      <td>https://digilib.itb.ac.id/./assets/./files/201...</td>\n",
       "    </tr>\n",
       "    <tr>\n",
       "      <th>145736</th>\n",
       "      <td>36497</td>\n",
       "      <td>94516003_-_Nadya.pdf</td>\n",
       "      <td>162386</td>\n",
       "      <td>94516003_-_Nadya.pdf</td>\n",
       "      <td>https://digilib.itb.ac.id/./assets/./files/201...</td>\n",
       "    </tr>\n",
       "    <tr>\n",
       "      <th>145737</th>\n",
       "      <td>36498</td>\n",
       "      <td>2019_TA_PP_Devi_Florenci_1-ABSTRAK.pdf</td>\n",
       "      <td>162389</td>\n",
       "      <td>2019_TA_PP_Devi_Florenci_1-ABSTRAK.pdf</td>\n",
       "      <td>https://digilib.itb.ac.id/./assets/./files/201...</td>\n",
       "    </tr>\n",
       "  </tbody>\n",
       "</table>\n",
       "<p>145738 rows × 5 columns</p>\n",
       "</div>"
      ],
      "text/plain": [
       "           id                                          fname     gid  \\\n",
       "0       22201           2017 TA PP Frans Ambaa 1-ABSTRAK.pdf  113712   \n",
       "1       22202            2013 TA PP FRANS EDISON 1-COVER.pdf  113713   \n",
       "2       22202            2013 TA PP FRANS EDISON 1-BAB 1.pdf  113714   \n",
       "3       22202            2013 TA PP FRANS EDISON 1-BAB 2.pdf  113715   \n",
       "4       22202            2013 TA PP FRANS EDISON 1-BAB 3.pdf  113716   \n",
       "...       ...                                            ...     ...   \n",
       "145733  36492     2019_TS_PP_NADANA_AYZAH_AZIS_1-ABSTRAK.pdf  162383   \n",
       "145734  36494           23215125_abstrak_tesis_indonesia.pdf  162385   \n",
       "145735  36495  2019_TA_PP_Fazat_Faridah_Alfani_1-ABSTRAK.pdf  162388   \n",
       "145736  36497                           94516003_-_Nadya.pdf  162386   \n",
       "145737  36498         2019_TA_PP_Devi_Florenci_1-ABSTRAK.pdf  162389   \n",
       "\n",
       "                                                 file  \\\n",
       "0                2017 TA PP Frans Ambaa 1-ABSTRAK.pdf   \n",
       "1                 2013 TA PP FRANS EDISON 1-COVER.pdf   \n",
       "2                 2013 TA PP FRANS EDISON 1-BAB 1.pdf   \n",
       "3                 2013 TA PP FRANS EDISON 1-BAB 2.pdf   \n",
       "4                 2013 TA PP FRANS EDISON 1-BAB 3.pdf   \n",
       "...                                               ...   \n",
       "145733     2019_TS_PP_NADANA_AYZAH_AZIS_1-ABSTRAK.pdf   \n",
       "145734           23215125_abstrak_tesis_indonesia.pdf   \n",
       "145735  2019_TA_PP_Fazat_Faridah_Alfani_1-ABSTRAK.pdf   \n",
       "145736                           94516003_-_Nadya.pdf   \n",
       "145737         2019_TA_PP_Devi_Florenci_1-ABSTRAK.pdf   \n",
       "\n",
       "                                                      url  \n",
       "0       https://digilib.itb.ac.id/./assets/./files/dis...  \n",
       "1       https://digilib.itb.ac.id/./assets/./files/dis...  \n",
       "2       https://digilib.itb.ac.id/./assets/./files/dis...  \n",
       "3       https://digilib.itb.ac.id/./assets/./files/dis...  \n",
       "4       https://digilib.itb.ac.id/./assets/./files/dis...  \n",
       "...                                                   ...  \n",
       "145733  https://digilib.itb.ac.id/./assets/./files/201...  \n",
       "145734  https://digilib.itb.ac.id/./assets/./files/201...  \n",
       "145735  https://digilib.itb.ac.id/./assets/./files/201...  \n",
       "145736  https://digilib.itb.ac.id/./assets/./files/201...  \n",
       "145737  https://digilib.itb.ac.id/./assets/./files/201...  \n",
       "\n",
       "[145738 rows x 5 columns]"
      ]
     },
     "execution_count": 45,
     "metadata": {},
     "output_type": "execute_result"
    }
   ],
   "source": [
    "merged = tmp.merge(gdl)\n",
    "merged"
   ]
  },
  {
   "cell_type": "code",
   "execution_count": 46,
   "metadata": {},
   "outputs": [
    {
     "data": {
      "text/plain": [
       "75.8057133345817"
      ]
     },
     "execution_count": 46,
     "metadata": {},
     "output_type": "execute_result"
    }
   ],
   "source": [
    "100*len(merged)/len(gdl)"
   ]
  },
  {
   "cell_type": "code",
   "execution_count": 47,
   "metadata": {},
   "outputs": [],
   "source": [
    "pdf = {}\n",
    "\n",
    "for _,i,fname,url in merged[['id','fname','url']].to_records():\n",
    "    if i not in pdf: pdf[i]=[]\n",
    "    pdf[i].append((fname, url))"
   ]
  },
  {
   "cell_type": "code",
   "execution_count": 48,
   "metadata": {},
   "outputs": [
    {
     "name": "stdout",
     "output_type": "stream",
     "text": [
      "757\n"
     ]
    },
    {
     "data": {
      "text/html": [
       "<div>\n",
       "<style scoped>\n",
       "    .dataframe tbody tr th:only-of-type {\n",
       "        vertical-align: middle;\n",
       "    }\n",
       "\n",
       "    .dataframe tbody tr th {\n",
       "        vertical-align: top;\n",
       "    }\n",
       "\n",
       "    .dataframe thead th {\n",
       "        text-align: right;\n",
       "    }\n",
       "</style>\n",
       "<table border=\"1\" class=\"dataframe\">\n",
       "  <thead>\n",
       "    <tr style=\"text-align: right;\">\n",
       "      <th></th>\n",
       "      <th>id</th>\n",
       "      <th>fname</th>\n",
       "      <th>gid</th>\n",
       "      <th>file</th>\n",
       "      <th>url</th>\n",
       "    </tr>\n",
       "  </thead>\n",
       "  <tbody>\n",
       "    <tr>\n",
       "      <th>13796</th>\n",
       "      <td>25280</td>\n",
       "      <td>2018 TA PP AKHMAD ZEIN DWI MUSTOFA 1-ABSTRAK.pdf</td>\n",
       "      <td>126154</td>\n",
       "      <td>AKHMAD ZEIN DWI MUSTOFA - ABSTRAK</td>\n",
       "      <td>https://digilib.itb.ac.id/./assets/./files/dis...</td>\n",
       "    </tr>\n",
       "    <tr>\n",
       "      <th>28738</th>\n",
       "      <td>52870</td>\n",
       "      <td>2016_TS_23614010_ARYA_PRIHUTAMA_SUMARJANTO.pdf</td>\n",
       "      <td>220172</td>\n",
       "      <td>2016- ARYA PRIHUTAMA SUMARJANTO</td>\n",
       "      <td>https://digilib.itb.ac.id/./assets/./files/ftm...</td>\n",
       "    </tr>\n",
       "    <tr>\n",
       "      <th>61115</th>\n",
       "      <td>31877</td>\n",
       "      <td>2018 TS PP Zaim Sidqi Islami 1-ABSTRAK.pdf</td>\n",
       "      <td>142539</td>\n",
       "      <td>Zaim Sidqi Islami - ABSTRAK.</td>\n",
       "      <td>https://digilib.itb.ac.id/./assets/./files/dis...</td>\n",
       "    </tr>\n",
       "    <tr>\n",
       "      <th>143005</th>\n",
       "      <td>52352</td>\n",
       "      <td>2004_TA_13696060_SOFYAN.pdf</td>\n",
       "      <td>220016</td>\n",
       "      <td>2004 - SOFYAN</td>\n",
       "      <td>https://digilib.itb.ac.id/./assets/./files/ftm...</td>\n",
       "    </tr>\n",
       "  </tbody>\n",
       "</table>\n",
       "</div>"
      ],
      "text/plain": [
       "           id                                             fname     gid  \\\n",
       "13796   25280  2018 TA PP AKHMAD ZEIN DWI MUSTOFA 1-ABSTRAK.pdf  126154   \n",
       "28738   52870    2016_TS_23614010_ARYA_PRIHUTAMA_SUMARJANTO.pdf  220172   \n",
       "61115   31877        2018 TS PP Zaim Sidqi Islami 1-ABSTRAK.pdf  142539   \n",
       "143005  52352                       2004_TA_13696060_SOFYAN.pdf  220016   \n",
       "\n",
       "                                     file  \\\n",
       "13796   AKHMAD ZEIN DWI MUSTOFA - ABSTRAK   \n",
       "28738     2016- ARYA PRIHUTAMA SUMARJANTO   \n",
       "61115        Zaim Sidqi Islami - ABSTRAK.   \n",
       "143005                      2004 - SOFYAN   \n",
       "\n",
       "                                                      url  \n",
       "13796   https://digilib.itb.ac.id/./assets/./files/dis...  \n",
       "28738   https://digilib.itb.ac.id/./assets/./files/ftm...  \n",
       "61115   https://digilib.itb.ac.id/./assets/./files/dis...  \n",
       "143005  https://digilib.itb.ac.id/./assets/./files/ftm...  "
      ]
     },
     "execution_count": 48,
     "metadata": {},
     "output_type": "execute_result"
    }
   ],
   "source": [
    "z = merged[merged['fname']!=merged['file']]\n",
    "print(len(z))\n",
    "\n",
    "zz = z[z['file']!='Database Error']\n",
    "zz"
   ]
  },
  {
   "cell_type": "code",
   "execution_count": 49,
   "metadata": {},
   "outputs": [],
   "source": [
    "total['pdf'] = total['id'].apply(lambda x: pdf[x] if x in pdf else [])"
   ]
  },
  {
   "cell_type": "code",
   "execution_count": 50,
   "metadata": {},
   "outputs": [],
   "source": [
    "total['link'] = total['file'].apply(lambda x: x if x else [])\n",
    "total.drop(columns='file', inplace=True)"
   ]
  },
  {
   "cell_type": "markdown",
   "metadata": {},
   "source": [
    "## Final"
   ]
  },
  {
   "cell_type": "code",
   "execution_count": 51,
   "metadata": {},
   "outputs": [
    {
     "data": {
      "text/html": [
       "<div>\n",
       "<style scoped>\n",
       "    .dataframe tbody tr th:only-of-type {\n",
       "        vertical-align: middle;\n",
       "    }\n",
       "\n",
       "    .dataframe tbody tr th {\n",
       "        vertical-align: top;\n",
       "    }\n",
       "\n",
       "    .dataframe thead th {\n",
       "        text-align: right;\n",
       "    }\n",
       "</style>\n",
       "<table border=\"1\" class=\"dataframe\">\n",
       "  <thead>\n",
       "    <tr style=\"text-align: right;\">\n",
       "      <th></th>\n",
       "      <th>id</th>\n",
       "      <th>title</th>\n",
       "      <th>oleh</th>\n",
       "      <th>kontributor</th>\n",
       "      <th>koleksi</th>\n",
       "      <th>penerbit</th>\n",
       "      <th>fakultas</th>\n",
       "      <th>subjek</th>\n",
       "      <th>keyword</th>\n",
       "      <th>sumber</th>\n",
       "      <th>tanggal</th>\n",
       "      <th>abstrak</th>\n",
       "      <th>pdf</th>\n",
       "      <th>link</th>\n",
       "    </tr>\n",
       "  </thead>\n",
       "  <tbody>\n",
       "    <tr>\n",
       "      <th>0</th>\n",
       "      <td>22201</td>\n",
       "      <td>PERANCANGAN TIPIKAL MATERIAL RECOVERY FACILITY...</td>\n",
       "      <td>Frans Ambaa</td>\n",
       "      <td>Dr. Benno Rahardyan, S.T., M.T.</td>\n",
       "      <td>Skripsi</td>\n",
       "      <td></td>\n",
       "      <td></td>\n",
       "      <td></td>\n",
       "      <td>tipikal, MRF, sampah, anorganik, TPA Leuwigajah</td>\n",
       "      <td></td>\n",
       "      <td>2017-09-27 10:25:22</td>\n",
       "      <td>Timbulan sampah di Indonesia terus meningkat m...</td>\n",
       "      <td>[(2017 TA PP Frans Ambaa 1-ABSTRAK.pdf, https:...</td>\n",
       "      <td>[(2017 TA PP Frans Ambaa 1-ABSTRAK.pdf, https:...</td>\n",
       "    </tr>\n",
       "    <tr>\n",
       "      <th>1</th>\n",
       "      <td>22202</td>\n",
       "      <td>ESTIMASI STATE OF CHARGE PADA BATERAI VRLA DEN...</td>\n",
       "      <td>FRANS EDISON (NIM : 13307098)</td>\n",
       "      <td>Pembimbing : Dr. Ir. Edi Leksono, M. Eng; Dr. ...</td>\n",
       "      <td>Skripsi</td>\n",
       "      <td></td>\n",
       "      <td></td>\n",
       "      <td></td>\n",
       "      <td>State of Charge, Coulomb Counting ,Efek Peuker...</td>\n",
       "      <td></td>\n",
       "      <td>2017-09-27 11:05:11</td>\n",
       "      <td>Baterai mempunyai peran penting dalam perkemba...</td>\n",
       "      <td>[(2013 TA PP FRANS EDISON 1-COVER.pdf, https:/...</td>\n",
       "      <td>[(2013 TA PP FRANS EDISON 1-COVER.pdf, https:/...</td>\n",
       "    </tr>\n",
       "    <tr>\n",
       "      <th>2</th>\n",
       "      <td>22203</td>\n",
       "      <td>ESTIMASI ENERGI PADA BATERAI NCA DENGAN MEMPER...</td>\n",
       "      <td>Frans Edison (NIM : 23315012)</td>\n",
       "      <td>Dr. Ir. Edi Leksono, M.Eng. Dr. Ir. Nugraha, M...</td>\n",
       "      <td>Tesis</td>\n",
       "      <td>Teknik Fisika</td>\n",
       "      <td>FTI</td>\n",
       "      <td></td>\n",
       "      <td>Baterai NCA, Perhitungan Energi, State of Ener...</td>\n",
       "      <td></td>\n",
       "      <td>2017-10-02 11:23:48</td>\n",
       "      <td>Kendaraan listrik mulai menggantikan kendaraan...</td>\n",
       "      <td>[(2017 TS PP FRANS EDISON 1-ABSTRAK.pdf, https...</td>\n",
       "      <td>[(2017 TS PP FRANS EDISON 1-ABSTRAK.pdf, https...</td>\n",
       "    </tr>\n",
       "    <tr>\n",
       "      <th>3</th>\n",
       "      <td>22204</td>\n",
       "      <td>ANALISIS DAERAH VULKANIK BERDASARKAN DISTRIBUS...</td>\n",
       "      <td>FRANS FRISCO SAKTI SILABAN (NIM : 10212081)</td>\n",
       "      <td>Pembimbing : Dr. Eng. Enjang Jaenal Mustapa</td>\n",
       "      <td>Skripsi</td>\n",
       "      <td></td>\n",
       "      <td></td>\n",
       "      <td></td>\n",
       "      <td>Inversi 1-Dimensi, Magnetotellurik, Resistivit...</td>\n",
       "      <td></td>\n",
       "      <td>2017-09-27 11:45:20</td>\n",
       "      <td>Indonesia merupakan Negara yang terdapat diant...</td>\n",
       "      <td>[(2017 TA PP FRANS FRISCO SAKTI SILABAN 1-COVE...</td>\n",
       "      <td>[(2017 TA PP FRANS FRISCO SAKTI SILABAN 1-COVE...</td>\n",
       "    </tr>\n",
       "    <tr>\n",
       "      <th>4</th>\n",
       "      <td>22205</td>\n",
       "      <td>PERANCANGAN DETAIL STRUKTUR ATAS MUSEUM SENI R...</td>\n",
       "      <td>FRANSISCA NADIA WIDYARINI [15013012]</td>\n",
       "      <td>Pembimbing : Prof. Ir. Iswandi Imran, MAS. c, ...</td>\n",
       "      <td>Skripsi</td>\n",
       "      <td>Teknik Sipil</td>\n",
       "      <td>FTSL</td>\n",
       "      <td>Civil engineering</td>\n",
       "      <td>Museum, desain, dinamik, gempa, detail, baja ;</td>\n",
       "      <td></td>\n",
       "      <td>2017-12-04 20:04:54</td>\n",
       "      <td>Struktur atas Museum Seni Rupa Kontemporer mer...</td>\n",
       "      <td>[(2017 TA PP FRANSISCA NADIA WIDYARINI 1-COVER...</td>\n",
       "      <td>[(2017 TA PP FRANSISCA NADIA WIDYARINI 1-COVER...</td>\n",
       "    </tr>\n",
       "    <tr>\n",
       "      <th>...</th>\n",
       "      <td>...</td>\n",
       "      <td>...</td>\n",
       "      <td>...</td>\n",
       "      <td>...</td>\n",
       "      <td>...</td>\n",
       "      <td>...</td>\n",
       "      <td>...</td>\n",
       "      <td>...</td>\n",
       "      <td>...</td>\n",
       "      <td>...</td>\n",
       "      <td>...</td>\n",
       "      <td>...</td>\n",
       "      <td>...</td>\n",
       "      <td>...</td>\n",
       "    </tr>\n",
       "    <tr>\n",
       "      <th>57401</th>\n",
       "      <td>36496</td>\n",
       "      <td>PERPUSTAKAAN UMUM DI KOTA YOGYAKARTA LIBRAY AS...</td>\n",
       "      <td>Fenyta Rizky Rahmadhani [15214055]</td>\n",
       "      <td>Dr.Ir.Lily Tambunan MT</td>\n",
       "      <td>Skripsi</td>\n",
       "      <td>Arsitektur</td>\n",
       "      <td>SAPPK</td>\n",
       "      <td>Architecture</td>\n",
       "      <td>Perpustakaan, rekreasi, Interaksi, Urban Oasis...</td>\n",
       "      <td></td>\n",
       "      <td>2019-03-13 10:32:13</td>\n",
       "      <td>Perpustakaan merupakan salah satu fasilitas pe...</td>\n",
       "      <td>[]</td>\n",
       "      <td>[(2019_TA_PP_FENYTA_RIZKY_RAHMADHANI_1-ABSTRAK...</td>\n",
       "    </tr>\n",
       "    <tr>\n",
       "      <th>57402</th>\n",
       "      <td>36497</td>\n",
       "      <td>MODEL PENILAIAN KINERJA PERUSAHAAN KAPAL PENGA...</td>\n",
       "      <td>Nadya [94516003]</td>\n",
       "      <td>Dr. Rajesri, S.T., M.T.;</td>\n",
       "      <td>Tesis</td>\n",
       "      <td>Logistik</td>\n",
       "      <td>FTI</td>\n",
       "      <td></td>\n",
       "      <td>Freight Forwarder, Penilaian Kinerja, CFA, RII</td>\n",
       "      <td></td>\n",
       "      <td>2019-03-13 10:32:39</td>\n",
       "      <td>Perkembangan pembangunan dan perbaikan infrast...</td>\n",
       "      <td>[(94516003_-_Nadya.pdf, https://digilib.itb.ac...</td>\n",
       "      <td>[(94516003_-_Nadya.pdf, https://digilib.itb.ac...</td>\n",
       "    </tr>\n",
       "    <tr>\n",
       "      <th>57403</th>\n",
       "      <td>36498</td>\n",
       "      <td>KAJIAN SENGKETA BATAS WILAYAH INDONESIA MALAYS...</td>\n",
       "      <td>Devi Florenci [15114002]</td>\n",
       "      <td>Dr. Heri Andreas, S.T., M.T.;Dr.techn. Dhota P...</td>\n",
       "      <td>Skripsi</td>\n",
       "      <td>Teknik Geodesi dan Geomatika</td>\n",
       "      <td>FITB</td>\n",
       "      <td></td>\n",
       "      <td>Sengketa Batas Negara, Pulau Sebatik, Sungai S...</td>\n",
       "      <td></td>\n",
       "      <td>2019-03-13 10:39:48</td>\n",
       "      <td>berupa batas darat, udara maupun batas laut. B...</td>\n",
       "      <td>[(2019_TA_PP_Devi_Florenci_1-ABSTRAK.pdf, http...</td>\n",
       "      <td>[(2019_TA_PP_Devi_Florenci_1-ABSTRAK.pdf, http...</td>\n",
       "    </tr>\n",
       "    <tr>\n",
       "      <th>57404</th>\n",
       "      <td>36499</td>\n",
       "      <td>KAJI ULANG PERENCANAAN JALAN TOL PASIRKOJA – S...</td>\n",
       "      <td>Multi Rizki [15004104]</td>\n",
       "      <td>Prof. Ir. Rudy Hermawan Karsaman, M.Sc., Ph.D....</td>\n",
       "      <td>Skripsi</td>\n",
       "      <td>Teknik Sipil</td>\n",
       "      <td>FTSL</td>\n",
       "      <td>Civil engineering</td>\n",
       "      <td>jalan tol, perencanaan geometrik, perkerasan kaku</td>\n",
       "      <td></td>\n",
       "      <td>2019-03-13 10:48:21</td>\n",
       "      <td>Kaji Ulang Perencanaan Jalan Tol Pasirkoja – S...</td>\n",
       "      <td>[]</td>\n",
       "      <td>[(2009_TA_PP_MULTI_RIZKI_-_REZKI_DESTRIMAN_1-_...</td>\n",
       "    </tr>\n",
       "    <tr>\n",
       "      <th>57405</th>\n",
       "      <td>36500</td>\n",
       "      <td>KAJI ULANG PERENCANAAN JALAN TOL PASIRKOJA – S...</td>\n",
       "      <td>Rezki Destriman [15004112]</td>\n",
       "      <td>Prof. Ir. Rudy Hermawan Karsaman, M.Sc., Ph.D....</td>\n",
       "      <td>Skripsi</td>\n",
       "      <td>Teknik Sipil</td>\n",
       "      <td>FTSL</td>\n",
       "      <td>Civil engineering</td>\n",
       "      <td>jalan tol, perencanaan geometrik, perkerasan kaku</td>\n",
       "      <td></td>\n",
       "      <td>2019-03-13 10:56:47</td>\n",
       "      <td>Kaji Ulang Perencanaan Jalan Tol Pasirkoja – S...</td>\n",
       "      <td>[]</td>\n",
       "      <td>[(2009_TA_PP_MULTI_RIZKI_-_REZKI_DESTRIMAN_1-_...</td>\n",
       "    </tr>\n",
       "  </tbody>\n",
       "</table>\n",
       "<p>57406 rows × 14 columns</p>\n",
       "</div>"
      ],
      "text/plain": [
       "          id                                              title  \\\n",
       "0      22201  PERANCANGAN TIPIKAL MATERIAL RECOVERY FACILITY...   \n",
       "1      22202  ESTIMASI STATE OF CHARGE PADA BATERAI VRLA DEN...   \n",
       "2      22203  ESTIMASI ENERGI PADA BATERAI NCA DENGAN MEMPER...   \n",
       "3      22204  ANALISIS DAERAH VULKANIK BERDASARKAN DISTRIBUS...   \n",
       "4      22205  PERANCANGAN DETAIL STRUKTUR ATAS MUSEUM SENI R...   \n",
       "...      ...                                                ...   \n",
       "57401  36496  PERPUSTAKAAN UMUM DI KOTA YOGYAKARTA LIBRAY AS...   \n",
       "57402  36497  MODEL PENILAIAN KINERJA PERUSAHAAN KAPAL PENGA...   \n",
       "57403  36498  KAJIAN SENGKETA BATAS WILAYAH INDONESIA MALAYS...   \n",
       "57404  36499  KAJI ULANG PERENCANAAN JALAN TOL PASIRKOJA – S...   \n",
       "57405  36500  KAJI ULANG PERENCANAAN JALAN TOL PASIRKOJA – S...   \n",
       "\n",
       "                                              oleh  \\\n",
       "0                                      Frans Ambaa   \n",
       "1                    FRANS EDISON (NIM : 13307098)   \n",
       "2                    Frans Edison (NIM : 23315012)   \n",
       "3      FRANS FRISCO SAKTI SILABAN (NIM : 10212081)   \n",
       "4             FRANSISCA NADIA WIDYARINI [15013012]   \n",
       "...                                            ...   \n",
       "57401           Fenyta Rizky Rahmadhani [15214055]   \n",
       "57402                             Nadya [94516003]   \n",
       "57403                     Devi Florenci [15114002]   \n",
       "57404                       Multi Rizki [15004104]   \n",
       "57405                   Rezki Destriman [15004112]   \n",
       "\n",
       "                                             kontributor  koleksi  \\\n",
       "0                        Dr. Benno Rahardyan, S.T., M.T.  Skripsi   \n",
       "1      Pembimbing : Dr. Ir. Edi Leksono, M. Eng; Dr. ...  Skripsi   \n",
       "2      Dr. Ir. Edi Leksono, M.Eng. Dr. Ir. Nugraha, M...    Tesis   \n",
       "3            Pembimbing : Dr. Eng. Enjang Jaenal Mustapa  Skripsi   \n",
       "4      Pembimbing : Prof. Ir. Iswandi Imran, MAS. c, ...  Skripsi   \n",
       "...                                                  ...      ...   \n",
       "57401                             Dr.Ir.Lily Tambunan MT  Skripsi   \n",
       "57402                           Dr. Rajesri, S.T., M.T.;    Tesis   \n",
       "57403  Dr. Heri Andreas, S.T., M.T.;Dr.techn. Dhota P...  Skripsi   \n",
       "57404  Prof. Ir. Rudy Hermawan Karsaman, M.Sc., Ph.D....  Skripsi   \n",
       "57405  Prof. Ir. Rudy Hermawan Karsaman, M.Sc., Ph.D....  Skripsi   \n",
       "\n",
       "                           penerbit fakultas             subjek  \\\n",
       "0                                                                 \n",
       "1                                                                 \n",
       "2                     Teknik Fisika      FTI                      \n",
       "3                                                                 \n",
       "4                      Teknik Sipil     FTSL  Civil engineering   \n",
       "...                             ...      ...                ...   \n",
       "57401                    Arsitektur    SAPPK       Architecture   \n",
       "57402                      Logistik      FTI                      \n",
       "57403  Teknik Geodesi dan Geomatika     FITB                      \n",
       "57404                  Teknik Sipil     FTSL  Civil engineering   \n",
       "57405                  Teknik Sipil     FTSL  Civil engineering   \n",
       "\n",
       "                                                 keyword sumber  \\\n",
       "0        tipikal, MRF, sampah, anorganik, TPA Leuwigajah          \n",
       "1      State of Charge, Coulomb Counting ,Efek Peuker...          \n",
       "2      Baterai NCA, Perhitungan Energi, State of Ener...          \n",
       "3      Inversi 1-Dimensi, Magnetotellurik, Resistivit...          \n",
       "4         Museum, desain, dinamik, gempa, detail, baja ;          \n",
       "...                                                  ...    ...   \n",
       "57401  Perpustakaan, rekreasi, Interaksi, Urban Oasis...          \n",
       "57402     Freight Forwarder, Penilaian Kinerja, CFA, RII          \n",
       "57403  Sengketa Batas Negara, Pulau Sebatik, Sungai S...          \n",
       "57404  jalan tol, perencanaan geometrik, perkerasan kaku          \n",
       "57405  jalan tol, perencanaan geometrik, perkerasan kaku          \n",
       "\n",
       "                   tanggal                                            abstrak  \\\n",
       "0      2017-09-27 10:25:22  Timbulan sampah di Indonesia terus meningkat m...   \n",
       "1      2017-09-27 11:05:11  Baterai mempunyai peran penting dalam perkemba...   \n",
       "2      2017-10-02 11:23:48  Kendaraan listrik mulai menggantikan kendaraan...   \n",
       "3      2017-09-27 11:45:20  Indonesia merupakan Negara yang terdapat diant...   \n",
       "4      2017-12-04 20:04:54  Struktur atas Museum Seni Rupa Kontemporer mer...   \n",
       "...                    ...                                                ...   \n",
       "57401  2019-03-13 10:32:13  Perpustakaan merupakan salah satu fasilitas pe...   \n",
       "57402  2019-03-13 10:32:39  Perkembangan pembangunan dan perbaikan infrast...   \n",
       "57403  2019-03-13 10:39:48  berupa batas darat, udara maupun batas laut. B...   \n",
       "57404  2019-03-13 10:48:21  Kaji Ulang Perencanaan Jalan Tol Pasirkoja – S...   \n",
       "57405  2019-03-13 10:56:47  Kaji Ulang Perencanaan Jalan Tol Pasirkoja – S...   \n",
       "\n",
       "                                                     pdf  \\\n",
       "0      [(2017 TA PP Frans Ambaa 1-ABSTRAK.pdf, https:...   \n",
       "1      [(2013 TA PP FRANS EDISON 1-COVER.pdf, https:/...   \n",
       "2      [(2017 TS PP FRANS EDISON 1-ABSTRAK.pdf, https...   \n",
       "3      [(2017 TA PP FRANS FRISCO SAKTI SILABAN 1-COVE...   \n",
       "4      [(2017 TA PP FRANSISCA NADIA WIDYARINI 1-COVER...   \n",
       "...                                                  ...   \n",
       "57401                                                 []   \n",
       "57402  [(94516003_-_Nadya.pdf, https://digilib.itb.ac...   \n",
       "57403  [(2019_TA_PP_Devi_Florenci_1-ABSTRAK.pdf, http...   \n",
       "57404                                                 []   \n",
       "57405                                                 []   \n",
       "\n",
       "                                                    link  \n",
       "0      [(2017 TA PP Frans Ambaa 1-ABSTRAK.pdf, https:...  \n",
       "1      [(2013 TA PP FRANS EDISON 1-COVER.pdf, https:/...  \n",
       "2      [(2017 TS PP FRANS EDISON 1-ABSTRAK.pdf, https...  \n",
       "3      [(2017 TA PP FRANS FRISCO SAKTI SILABAN 1-COVE...  \n",
       "4      [(2017 TA PP FRANSISCA NADIA WIDYARINI 1-COVER...  \n",
       "...                                                  ...  \n",
       "57401  [(2019_TA_PP_FENYTA_RIZKY_RAHMADHANI_1-ABSTRAK...  \n",
       "57402  [(94516003_-_Nadya.pdf, https://digilib.itb.ac...  \n",
       "57403  [(2019_TA_PP_Devi_Florenci_1-ABSTRAK.pdf, http...  \n",
       "57404  [(2009_TA_PP_MULTI_RIZKI_-_REZKI_DESTRIMAN_1-_...  \n",
       "57405  [(2009_TA_PP_MULTI_RIZKI_-_REZKI_DESTRIMAN_1-_...  \n",
       "\n",
       "[57406 rows x 14 columns]"
      ]
     },
     "execution_count": 51,
     "metadata": {},
     "output_type": "execute_result"
    }
   ],
   "source": [
    "total"
   ]
  },
  {
   "cell_type": "code",
   "execution_count": 52,
   "metadata": {},
   "outputs": [
    {
     "data": {
      "image/png": "[encoded data removed]",
      "text/plain": [
       "<Figure size 1800x720 with 1 Axes>"
      ]
     },
     "metadata": {
      "needs_background": "light"
     },
     "output_type": "display_data"
    }
   ],
   "source": [
    "tmp = total.copy()\n",
    "tmp = tmp.replace('', np.nan, regex=True)\n",
    "\n",
    "missingno.matrix(tmp, sparkline=False);"
   ]
  },
  {
   "cell_type": "code",
   "execution_count": 54,
   "metadata": {},
   "outputs": [],
   "source": [
    "total.to_pickle(\"digilib.pickle\")"
   ]
  }
 ],
 "metadata": {
  "kernelspec": {
   "display_name": "Python 3.10.7 ('venv': venv)",
   "language": "python",
   "name": "python3"
  },
  "language_info": {
   "codemirror_mode": {
    "name": "ipython",
    "version": 3
   },
   "file_extension": ".py",
   "mimetype": "text/x-python",
   "name": "python",
   "nbconvert_exporter": "python",
   "pygments_lexer": "ipython3",
   "version": "3.10.7"
  },
  "vscode": {
   "interpreter": {
    "hash": "e74b86b9b51b33ac18a8fef28e947c347c9504129a5a76a22b4917ea5d921d4c"
   }
  }
 },
 "nbformat": 4,
 "nbformat_minor": 4
}
